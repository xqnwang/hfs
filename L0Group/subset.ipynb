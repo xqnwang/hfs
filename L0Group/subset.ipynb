{
 "cells": [
  {
   "cell_type": "code",
   "execution_count": 27,
   "id": "203e1e7e",
   "metadata": {},
   "outputs": [],
   "source": [
    "import numpy as np\n",
    "from numpy import linalg as LA\n",
    "import gurobipy as gp\n",
    "from gurobipy import GRB, quicksum\n",
    "# Gurobi Optimizer version 10.0.1 build v10.0.1rc0\n",
    "\n",
    "def miqp(y, S, W, l0 = 0, l2 = 0, m = None, M = None, MIPGap = None, TimeLimit = 600, LogToConsole = 0, OutputFlag = 0, WarmStart = 1, MIPFocus = 0, Cuts = -1):\n",
    "    \"\"\"\n",
    "    Solve the OP problem: min_{G} 0.5 * (y - SGy)' W^{-1} (y - SGy) + l0 * Z(G) + l2 * ||vec(G)||^2\n",
    "                          s.t. GS = I\n",
    "    where Z(G) counts the number of nonzero columns of G\n",
    "\n",
    "\n",
    "    Parameters\n",
    "    ----------\n",
    "    y : np.array\n",
    "        1-d numpy array of base forecasts with size n.\n",
    "    S : np.array\n",
    "        n x nb numpy array describing the hierarchy structure.\n",
    "    W : np.array\n",
    "        n x n numpy array. The covariance matrix of the base forecast errors.\n",
    "    l0 : float, optional\n",
    "        lagrange multiplier.\n",
    "    l2 : float, optional\n",
    "        lagrange multiplier.   \n",
    "    m : float, optional\n",
    "        bound of G matrix elements.\n",
    "    M : float, optional\n",
    "        bound of sum of absolute values of a column of G.\n",
    "    MIPGap: float, optional\n",
    "        the MIP solver will terminate (with an optimal result) when the gap between the lower and upper objective bound is less than MIPGap times the absolute value of the incumbent objective value\n",
    "    TimeLimit: float, optional\n",
    "        set a timeout for gurobi.\n",
    "    LogToConsole: int, optional\n",
    "        Enables or disables console logging. Use OutputFlag to shut off all logging.\n",
    "    OutputFlag: int, optional\n",
    "        Enables or disables solver output. Use LogFile and LogToConsole for finer-grain control. Setting OutputFlag to 0 is equivalent to setting LogFile to \"\" and LogToConsole to 0.\n",
    "    WarmStart: int, optional\n",
    "        bottom-up warm start. Default True.\n",
    "    MIPFocus: int, optional\n",
    "        If you are more interested in finding feasible solutions quickly, you can select MIPFocus=1. If you believe the solver is having no trouble finding good quality solutions, and wish to focus more attention on proving optimality, select MIPFocus=2. If the best objective bound is moving very slowly (or not at all), you may want to try MIPFocus=3 to focus on the bound.\n",
    "    Cuts: int, optional\n",
    "        Global cut aggressiveness setting. Use value 0 to shut off cuts, 1 for moderate cut generation, 2 for aggressive cut generation, and 3 for very aggressive cut generation. This parameter is overridden by the parameters that control individual cut types (e.g., CliqueCuts).\n",
    "\n",
    "        \n",
    "        \n",
    "    Returns\n",
    "    -------\n",
    "    1-d numpy array of diagonal elements of A.\n",
    "\n",
    "    \"\"\"\n",
    "    \n",
    "    \"\"\" Change parameters in a callback\n",
    "    def my_callback(model, where):\n",
    "        if where == GRB.Callback.MIP:\n",
    "            run_time = model.cbGet(GRB.Callback.RUNTIME)\n",
    "            # objbst = model.cbGet(GRB.Callback.MIP_OBJBST)\n",
    "            # objbnd = model.cbGet(GRB.Callback.MIP_OBJBND)\n",
    "            # gap = abs((objbst - objbnd) / objbst)\n",
    "            \n",
    "            if run_time > TimeChange:\n",
    "                model._changeParam = True\n",
    "                model.terminate()\n",
    "     \"\"\" \n",
    "            \n",
    "    n = S.shape[0]\n",
    "    nb = S.shape[1]\n",
    "    p = nb * n\n",
    "    \n",
    "    y = y.reshape((n,)) # reshape imported R object from (n, 1) to (n,)\n",
    "    I = np.identity(nb)\n",
    "    inv_W = np.linalg.inv(W)\n",
    "    \n",
    "    \"\"\" MinT solution \"\"\"\n",
    "    R = S.T @ inv_W\n",
    "    G_mint = np.linalg.inv(R @ S) @ R\n",
    "    obj_guess = 0.5 * (y - S@G_mint@y).T @ inv_W @ (y - S@G_mint@y) + l0 * nb + l2 * LA.norm(G_mint, 2)**2\n",
    "    \n",
    "    if m is None:\n",
    "        m = np.amax(G_mint) + 1\n",
    "    \n",
    "    if M is None:\n",
    "        M = nb\n",
    "    \n",
    "    if MIPGap is None:\n",
    "        if n <= 50:\n",
    "            MIPGap = 0.0001\n",
    "        else:\n",
    "            MIPGap = 0.001\n",
    "    \n",
    "    emax = np.amax(abs(y))\n",
    "    \n",
    "    \"\"\" SUPPRESS ALL OUTPUT \"\"\"\n",
    "    env = gp.Env(empty=True)\n",
    "    env.setParam(\"OutputFlag\",OutputFlag)\n",
    "    env.start()\n",
    "    \n",
    "    \"\"\" MIP MODEL \"\"\"\n",
    "    model = gp.Model('MIP', env=env) # the optimization model\n",
    "    \n",
    "    \"\"\" PARAMETERS \"\"\"\n",
    "    # G matrix\n",
    "    G = model.addMVar(shape=(p, ), vtype=GRB.CONTINUOUS,\n",
    "                  ub=np.repeat(m, p), lb=np.repeat(-m, p))\n",
    "    # Positive G matrix\n",
    "    PG = model.addMVar(shape=(p, ), vtype=GRB.CONTINUOUS,\n",
    "                  ub=np.repeat(m, p), lb=np.repeat(0, p))\n",
    "    # Error\n",
    "    E = model.addMVar(shape=(n, ), vtype=GRB.CONTINUOUS,\n",
    "                  ub=np.repeat(emax, n), lb=np.repeat(-emax, n))\n",
    "                  # ub=[i * 3 for i in np.absolute(y)], lb=[-i * 3 for i in np.absolute(y)]\n",
    "    # Binary\n",
    "    Z = model.addMVar(shape=(n, ), vtype=GRB.BINARY)\n",
    "    model.update()\n",
    "\n",
    "    \"\"\" OBJECTIVE \"\"\"\n",
    "    model.setObjective(0.5 * E.T @ inv_W @ E + l0 * quicksum(Z) + l2 * PG.T @ PG, GRB.MINIMIZE)\n",
    "\n",
    "    \"\"\" CONSTRAINTS \"\"\"\n",
    "    model.addConstr(y == E + np.kron(y.T, S) @ G)\n",
    "    model.addConstr(I.reshape(-1) == np.kron(S.T, I) @ G)\n",
    "    model.addConstrs(quicksum(PG[(j*nb):((j+1)*nb)]) <= M*Z[j] for j in range(n))\n",
    "    model.addConstr(PG >= G)\n",
    "    model.addConstr(PG >= -G)\n",
    "    model.update()\n",
    "    \n",
    "    \"\"\" WARM START \"\"\"\n",
    "    if WarmStart:\n",
    "        model.NumStart = 3\n",
    "        model.update()\n",
    "        \n",
    "        # 1. Bottom-up\n",
    "        model.params.StartNumber = 0 # set StartNumber\n",
    "        rS = np.sum(S, axis=1)\n",
    "        z_bu = np.where(rS == 1, 1, 0)\n",
    "        for j in range(n):\n",
    "            Z[j].Start = z_bu[j]\n",
    "        \n",
    "        # 2. All\n",
    "        model.params.StartNumber = 1\n",
    "        for j in range(n):\n",
    "            Z[j].Start = 1\n",
    "        \n",
    "        # 3. Optimal\n",
    "        \"\"\" QP MODEL \"\"\"\n",
    "        qp = gp.Model('MIP', env=env) # the optimization model\n",
    "        \n",
    "        \"\"\" PARAMETERS \"\"\"\n",
    "        # G matrix\n",
    "        G_qp = qp.addMVar(shape=(p, ), vtype=GRB.CONTINUOUS,\n",
    "                         ub=np.repeat(m, p), lb=np.repeat(-m, p))\n",
    "        # Positive G matrix\n",
    "        PG_qp = qp.addMVar(shape=(p, ), vtype=GRB.CONTINUOUS,\n",
    "                          ub=np.repeat(m, p), lb=np.repeat(0, p))\n",
    "        # Error\n",
    "        E_qp = qp.addMVar(shape=(n, ), vtype=GRB.CONTINUOUS,\n",
    "                         ub=np.repeat(emax, n), lb=np.repeat(-emax, n))\n",
    "        # Relaxed binary\n",
    "        Z_qp = qp.addMVar(shape=(n, ), vtype=GRB.CONTINUOUS,\n",
    "                         ub=np.repeat(1, n), lb=np.repeat(0, n))\n",
    "        qp.update()\n",
    "        \n",
    "        \"\"\" OBJECTIVE \"\"\"\n",
    "        qp.setObjective(0.5 * E_qp.T @ inv_W @ E_qp + l0 * quicksum(Z_qp) + l2 * PG_qp.T @ PG_qp, GRB.MINIMIZE)\n",
    "        \n",
    "        \"\"\" CONSTRAINTS \"\"\"\n",
    "        qp.addConstr(y == E_qp + np.kron(y.T, S) @ G_qp)\n",
    "        qp.addConstr(I.reshape(-1) == np.kron(S.T, I) @ G_qp)\n",
    "        qp.addConstrs(quicksum(PG_qp[(j*nb):((j+1)*nb)]) <= M*Z_qp[j] for j in range(n))\n",
    "        qp.addConstr(PG_qp >= G_qp)\n",
    "        qp.addConstr(PG_qp >= -G_qp)\n",
    "        qp.update()\n",
    "        qp.optimize()\n",
    "        z_qp = np.where(Z_qp.X >= 0.001, 1, 0)\n",
    "        \n",
    "        model.params.StartNumber = 2\n",
    "        for j in range(n):\n",
    "            Z[j].Start = z_qp[j]\n",
    "    \n",
    "    \"\"\" OPTIMIZE \"\"\"\n",
    "    model.Params.MIPGap = MIPGap\n",
    "    model.Params.OutputFlag = OutputFlag\n",
    "    model.Params.LogToConsole = LogToConsole\n",
    "    model.Params.MIPFocus = MIPFocus\n",
    "    model.Params.Cuts = Cuts\n",
    "    model.params.TimeLimit = TimeLimit\n",
    "    model.optimize()\n",
    "    # model.Params.Threads = 1\n",
    "    \"\"\" Change parameters in a callback\n",
    "    NewGap = 0.01\n",
    "    model._changeParam = False\n",
    "    model.optimize(my_callback) \n",
    "    if model._changeParam:\n",
    "        model.params.MIPGap = NewGap\n",
    "        model.params.TimeLimit = TimeChange\n",
    "        model.optimize()\n",
    "    \"\"\"\n",
    "    \n",
    "    g = G.X\n",
    "    Z = Z.X\n",
    "    G = g.reshape(n, nb).T\n",
    "    obj = model.objval\n",
    "    gap = model.MIPGap\n",
    "    if gap <= MIPGap or obj < obj_guess or abs(obj - obj_guess)/abs(obj_guess) < 0.01:\n",
    "        opt = 1\n",
    "    else:\n",
    "        opt = 0\n",
    "    \n",
    "    return G, Z, obj, gap, opt"
   ]
  },
  {
   "cell_type": "code",
   "execution_count": 2,
   "id": "3fcc0cd5",
   "metadata": {},
   "outputs": [],
   "source": [
    "# tourism data\n",
    "import pandas as pd\n",
    "y = pd.read_csv(\"../../hfs/data/tourism_y.csv\")\n",
    "y = y['V1'].to_numpy()\n",
    "\n",
    "S = pd.read_csv(\"../../hfs/data/tourism_S.csv\")\n",
    "S = S.to_numpy()\n",
    "\n",
    "W = np.identity(S.shape[0])"
   ]
  },
  {
   "cell_type": "code",
   "execution_count": 3,
   "id": "32b336dc",
   "metadata": {},
   "outputs": [
    {
     "name": "stdout",
     "output_type": "stream",
     "text": [
      "Set parameter Username\n",
      "Academic license - for non-commercial use only - expires 2024-01-22\n",
      "Gurobi Optimizer version 10.0.1 build v10.0.1rc0 (mac64[rosetta2])\n",
      "\n",
      "CPU model: Apple M1 Pro\n",
      "Thread count: 8 physical cores, 8 logical processors, using up to 8 threads\n",
      "\n",
      "Optimize a model with 22870 rows, 17094 columns and 99250 nonzeros\n",
      "Model fingerprint: 0xdb2cf13d\n",
      "Model has 111 quadratic objective terms\n",
      "Coefficient statistics:\n",
      "  Matrix range     [1e+00, 5e+04]\n",
      "  Objective range  [1e+05, 1e+05]\n",
      "  QObjective range [1e+00, 1e+00]\n",
      "  Bounds range     [1e+00, 5e+04]\n",
      "  RHS range        [1e+00, 5e+04]\n",
      "Presolve removed 5776 rows and 5776 columns\n",
      "Presolve time: 0.03s\n",
      "Presolved: 17094 rows, 11318 columns, 74322 nonzeros\n",
      "Presolved model has 111 quadratic objective terms\n",
      "Ordering time: 0.02s\n",
      "\n",
      "Barrier statistics:\n",
      " Dense cols : 76\n",
      " AA' NZ     : 2.911e+05\n",
      " Factor NZ  : 5.348e+05 (roughly 16 MB of memory)\n",
      " Factor Ops : 2.244e+07 (less than 1 second per iteration)\n",
      " Threads    : 8\n",
      "\n",
      "                  Objective                Residual\n",
      "Iter       Primal          Dual         Primal    Dual     Compl     Time\n",
      "   0   2.03582716e+09 -4.59521440e+10  8.22e+05 1.04e+04  4.52e+07     0s\n",
      "   1   1.68889206e+09 -3.26218760e+10  5.29e+05 6.52e+03  3.34e+07     0s\n",
      "   2   3.17541030e+07 -6.87453702e+09  4.00e+03 7.29e-08  4.58e+05     0s\n",
      "   3   1.07351005e+07 -1.88600169e+09  2.39e+00 2.33e-10  4.81e+04     0s\n",
      "   4   1.06954975e+07 -1.65466425e+07  3.20e-02 1.55e-10  6.90e+02     0s\n",
      "   5   4.59392778e+06 -6.04499112e+06  3.75e-03 1.64e-11  2.69e+02     0s\n",
      "   6   1.51473851e+06 -1.74746796e+05  5.42e-04 3.64e-12  4.28e+01     0s\n",
      "   7   5.38551222e+05  1.75631136e+05  9.69e-05 7.28e-12  9.19e+00     0s\n",
      "   8   3.74488941e+05  2.43575235e+05  3.18e-05 7.28e-12  3.31e+00     0s\n",
      "   9   3.06142838e+05  2.76843017e+05  4.12e-06 7.28e-12  7.42e-01     0s\n",
      "  10   2.90452033e+05  2.86283381e+05  1.93e-07 7.28e-12  1.06e-01     0s\n",
      "  11   2.88156852e+05  2.87654630e+05  2.19e-08 7.28e-12  1.27e-02     0s\n",
      "  12   2.87857452e+05  2.87833153e+05  5.11e-09 7.28e-12  6.15e-04     0s\n",
      "  13   2.87842889e+05  2.87842617e+05  1.71e-07 7.28e-12  7.01e-06     0s\n",
      "  14   2.87842727e+05  2.87842726e+05  1.24e-08 7.28e-12  7.84e-09     0s\n",
      "\n",
      "Barrier solved model in 14 iterations and 0.35 seconds (0.25 work units)\n",
      "Optimal objective 2.87842727e+05\n",
      "\n",
      "Set parameter MIPGap to value 0.001\n",
      "Set parameter MIPFocus to value 3\n",
      "Set parameter Cuts to value 3\n",
      "Gurobi Optimizer version 10.0.1 build v10.0.1rc0 (mac64[rosetta2])\n",
      "\n",
      "CPU model: Apple M1 Pro\n",
      "Thread count: 8 physical cores, 8 logical processors, using up to 8 threads\n",
      "\n",
      "Optimize a model with 22870 rows, 17094 columns and 99250 nonzeros\n",
      "Model fingerprint: 0xf61d27ab\n",
      "Model has 111 quadratic objective terms\n",
      "Variable types: 16983 continuous, 111 integer (111 binary)\n",
      "Coefficient statistics:\n",
      "  Matrix range     [1e+00, 5e+04]\n",
      "  Objective range  [1e+05, 1e+05]\n",
      "  QObjective range [1e+00, 1e+00]\n",
      "  Bounds range     [1e+00, 5e+04]\n",
      "  RHS range        [1e+00, 5e+04]\n",
      "\n",
      "User MIP start 0 produced solution with objective 9.9344e+06 (0.02s)\n",
      "Loaded user MIP start 0 with objective 9.9344e+06\n",
      "User MIP start 1 did not produce a new incumbent solution\n",
      "User MIP start 2 produced solution with objective 8.97234e+06 (0.34s)\n",
      "Loaded user MIP start 2 with objective 8.97234e+06\n",
      "\n",
      "Presolve removed 4560 rows and 4560 columns\n",
      "Presolve time: 0.10s\n",
      "Presolved: 18310 rows, 12534 columns, 54188 nonzeros\n",
      "Presolved model has 111 quadratic objective terms\n",
      "Variable types: 12423 continuous, 111 integer (111 binary)\n",
      "Found heuristic solution: objective 8572338.4480\n",
      "Root relaxation presolved: 18310 rows, 12534 columns, 54188 nonzeros\n",
      "Root relaxation presolved model has 111 quadratic objective terms\n",
      "\n",
      "\n",
      "Root relaxation: objective 6.870235e+05, 59917 iterations, 1.82 seconds (2.46 work units)\n",
      "\n",
      "    Nodes    |    Current Node    |     Objective Bounds      |     Work\n",
      " Expl Unexpl |  Obj  Depth IntInf | Incumbent    BestBd   Gap | It/Node Time\n",
      "\n",
      "     0     0 687023.515    0  100 8572338.45 687023.515  92.0%     -    2s\n",
      "H    0     0                    8486919.2552 687023.515  91.9%     -    2s\n",
      "H    0     0                    8483305.6069 687023.515  91.9%     -    2s\n",
      "     0     0 5210396.56    0   80 8483305.61 5210396.56  38.6%     -   32s\n",
      "     0     0 5210621.27    0   80 8483305.61 5210621.27  38.6%     -   33s\n",
      "H    0     0                    8478325.7305 5333874.32  37.1%     -   36s\n",
      "H    0     0                    8429715.0508 5333874.32  36.7%     -   36s\n",
      "H    0     0                    8332019.2860 5333874.32  36.0%     -   36s\n",
      "H    0     0                    8325528.3062 5333874.32  35.9%     -   36s\n",
      "     0     0 5333874.32    0   79 8325528.31 5333874.32  35.9%     -   36s\n",
      "     0     0 5333974.25    0   87 8325528.31 5333974.25  35.9%     -   44s\n",
      "     0     0 5432278.40    0   90 8325528.31 5432278.40  34.8%     -   67s\n",
      "     0     0 5443356.78    0   94 8325528.31 5443356.78  34.6%     -   81s\n",
      "     0     0 5444926.24    0   92 8325528.31 5444926.24  34.6%     -   83s\n",
      "     0     0 5445330.74    0   93 8325528.31 5445330.74  34.6%     -   84s\n",
      "     0     0 5612639.51    0   86 8325528.31 5612639.51  32.6%     -  107s\n",
      "     0     0 5630378.63    0   88 8325528.31 5630378.63  32.4%     -  119s\n",
      "     0     0 5634756.90    0   88 8325528.31 5634756.90  32.3%     -  124s\n",
      "     0     0 5636052.86    0   86 8325528.31 5636052.86  32.3%     -  129s\n",
      "     0     0 5798816.60    0  104 8325528.31 5798816.60  30.3%     -  159s\n",
      "     0     0 5811053.52    0   90 8325528.31 5811053.52  30.2%     -  186s\n",
      "     0     0 5813447.12    0   93 8325528.31 5813447.12  30.2%     -  189s\n",
      "     0     0 5813725.12    0   95 8325528.31 5813725.12  30.2%     -  197s\n",
      "     0     0 5941968.47    0   86 8325528.31 5941968.47  28.6%     -  317s\n",
      "\n",
      "Cutting planes:\n",
      "  Gomory: 41\n",
      "  Cover: 15\n",
      "  Implied bound: 1850\n",
      "  MIR: 337\n",
      "  StrongCG: 1\n",
      "  Flow cover: 568\n",
      "  Zero half: 10\n",
      "  RLT: 45\n",
      "  Relax-and-lift: 28\n",
      "  BQP: 3\n",
      "  PSD: 34\n",
      "\n",
      "Explored 1 nodes (1604877 simplex iterations) in 317.99 seconds (607.36 work units)\n",
      "Thread count was 8 (of 8 available processors)\n",
      "\n",
      "Solution count 9: 8.32553e+06 8.33202e+06 8.42972e+06 ... 9.9344e+06\n",
      "\n",
      "Solve interrupted\n",
      "Best objective 8.325528306201e+06, best bound 5.941968470737e+06, gap 28.6295%\n",
      "\n",
      "User-callback calls 18530, time in user-callback 0.07 sec\n",
      "Set parameter MIPGap to value 0.01\n",
      "Set parameter TimeLimit to value 300\n",
      "Gurobi Optimizer version 10.0.1 build v10.0.1rc0 (mac64[rosetta2])\n",
      "\n",
      "CPU model: Apple M1 Pro\n",
      "Thread count: 8 physical cores, 8 logical processors, using up to 8 threads\n",
      "\n",
      "Optimize a model with 22870 rows, 17094 columns and 99250 nonzeros\n",
      "Model fingerprint: 0xf61d27ab\n",
      "Model has 111 quadratic objective terms\n",
      "Variable types: 16983 continuous, 111 integer (111 binary)\n",
      "Coefficient statistics:\n",
      "  Matrix range     [1e+00, 5e+04]\n",
      "  Objective range  [1e+05, 1e+05]\n",
      "  QObjective range [1e+00, 1e+00]\n",
      "  Bounds range     [1e+00, 5e+04]\n",
      "  RHS range        [1e+00, 5e+04]\n",
      "Presolved: 18310 rows, 12534 columns, 54188 nonzeros\n",
      "Presolved model has 111 quadratic objective terms\n",
      "\n",
      "Continuing optimization...\n",
      "\n",
      "     0     0 5941968.47    0   85 8325528.31 5941968.47  28.6%     -  360s\n",
      "     0     0 5955577.01    0   85 8325528.31 5955577.01  28.5%     -  394s\n",
      "     0     0 5958097.21    0   86 8325528.31 5958097.21  28.4%     -  428s\n",
      "     0     0 5958097.21    0   86 8325528.31 5958097.21  28.4%     -  490s\n",
      "     0     2 5958097.21    0   86 8325528.31 5958097.21  28.4%     -  501s\n",
      "     1     4 5969239.09    1   87 8325528.31 5969239.09  28.3% 149667  543s\n",
      "     3     6 6035573.60    2   84 8325528.31 5969451.06  28.3% 168307  618s\n",
      "\n",
      "Cutting planes:\n",
      "  Gomory: 40\n",
      "  Cover: 17\n",
      "  Implied bound: 2950\n",
      "  MIR: 610\n",
      "  Flow cover: 943\n",
      "  Zero half: 10\n",
      "  RLT: 76\n",
      "  Relax-and-lift: 92\n",
      "  BQP: 58\n",
      "  PSD: 109\n",
      "\n",
      "Explored 5 nodes (3204808 simplex iterations) in 300.03 seconds (694.01 work units)\n",
      "Thread count was 8 (of 8 available processors)\n",
      "\n",
      "Solution count 9: 8.32553e+06 8.33202e+06 8.42972e+06 ... 9.9344e+06\n",
      "\n",
      "Time limit reached\n",
      "Best objective 8.325528306201e+06, best bound 5.969451061939e+06, gap 28.2994%\n"
     ]
    }
   ],
   "source": [
    "G, Z, obj, gap, opt = miqp(y, S, W, l0 = 100000, l2 = 0, m = None, M = None, LogToConsole = 1, OutputFlag = True, WarmStart = True, MIPFocus = 3, Cuts = 3)\n",
    "# MIPFocus = 3, Cuts = 2"
   ]
  },
  {
   "cell_type": "code",
   "execution_count": 4,
   "id": "0832fbe9",
   "metadata": {},
   "outputs": [
    {
     "data": {
      "text/plain": [
       "0.0010305965878564987"
      ]
     },
     "execution_count": 4,
     "metadata": {},
     "output_type": "execute_result"
    }
   ],
   "source": [
    "gap"
   ]
  },
  {
   "cell_type": "code",
   "execution_count": 5,
   "id": "5d9ec776",
   "metadata": {},
   "outputs": [
    {
     "data": {
      "text/plain": [
       "array([ 0.,  0.,  0.,  0.,  0.,  0.,  0.,  0.,  0.,  1.,  1.,  0.,  0.,\n",
       "        1.,  0., -0.,  0.,  0.,  0.,  0.,  0.,  0.,  1.,  0.,  0.,  0.,\n",
       "       -0.,  1.,  1.,  1.,  1.,  0.,  1.,  0., -0.,  1.,  1.,  0.,  1.,\n",
       "        0.,  1.,  1.,  1.,  1.,  1.,  1.,  1.,  1., -0.,  1.,  1.,  1.,\n",
       "        1.,  1.,  1.,  1.,  1.,  1.,  1.,  1.,  1.,  1.,  1.,  1.,  1.,\n",
       "        1.,  1.,  1.,  1.,  1.,  1.,  1.,  1.,  1.,  1.,  1.,  1.,  1.,\n",
       "        1.,  1.,  1.,  0.,  1.,  1.,  1.,  1.,  1.,  1.,  1.,  1.,  1.,\n",
       "        1.,  1.,  1.,  1.,  1.,  1.,  0.,  0.,  0.,  1.,  1., -0.,  1.,\n",
       "        1.,  1.,  1.,  1.,  1.,  1.,  1.])"
      ]
     },
     "execution_count": 5,
     "metadata": {},
     "output_type": "execute_result"
    }
   ],
   "source": [
    "Z"
   ]
  },
  {
   "cell_type": "code",
   "execution_count": 6,
   "id": "a66a1adb",
   "metadata": {},
   "outputs": [
    {
     "data": {
      "text/plain": [
       "<gurobi.LinExpr: 77.0>"
      ]
     },
     "execution_count": 6,
     "metadata": {},
     "output_type": "execute_result"
    }
   ],
   "source": [
    "quicksum(Z)"
   ]
  },
  {
   "cell_type": "code",
   "execution_count": 15,
   "id": "01b1cf63",
   "metadata": {},
   "outputs": [
    {
     "data": {
      "text/plain": [
       "array([ 0.,  0.,  0.,  0.,  0.,  0.,  0.,  0.,  0.,  0.,  0.,  0.,  0.,\n",
       "        0.,  0.,  0.,  0.,  0.,  0.,  0.,  0.,  0.,  0.,  0.,  0.,  0.,\n",
       "        0.,  0.,  0.,  0.,  0.,  0.,  0.,  0.,  0.,  0.,  0.,  0.,  0.,\n",
       "        0.,  0.,  0.,  0.,  0.,  0.,  0.,  0.,  0.,  0.,  0.,  0.,  0.,\n",
       "        0.,  0.,  0.,  0.,  0.,  0.,  0.,  0.,  0.,  0.,  0.,  0.,  0.,\n",
       "        0.,  0., -1.,  1.,  0.,  0.,  0.,  0.,  0.,  0.,  0.])"
      ]
     },
     "execution_count": 15,
     "metadata": {},
     "output_type": "execute_result"
    }
   ],
   "source": [
    "G[:,103]"
   ]
  },
  {
   "cell_type": "code",
   "execution_count": 65,
   "id": "c38a9fee",
   "metadata": {},
   "outputs": [
    {
     "data": {
      "text/plain": [
       "array([10.57548845,  5.62107756,  4.95441089,  1.81053878,  3.81053878,\n",
       "       -0.52279455,  5.47720545])"
      ]
     },
     "execution_count": 65,
     "metadata": {},
     "output_type": "execute_result"
    }
   ],
   "source": [
    "S @ G @ y"
   ]
  },
  {
   "cell_type": "code",
   "execution_count": 66,
   "id": "78bfe227",
   "metadata": {},
   "outputs": [
    {
     "data": {
      "text/plain": [
       "1.0"
      ]
     },
     "execution_count": 66,
     "metadata": {},
     "output_type": "execute_result"
    }
   ],
   "source": [
    "np.amax(G)"
   ]
  },
  {
   "cell_type": "code",
   "execution_count": 67,
   "id": "d91da14b",
   "metadata": {},
   "outputs": [
    {
     "data": {
      "text/plain": [
       "-0.38069863824748373"
      ]
     },
     "execution_count": 67,
     "metadata": {},
     "output_type": "execute_result"
    }
   ],
   "source": [
    "np.amin(G)"
   ]
  },
  {
   "cell_type": "code",
   "execution_count": 4,
   "id": "9050ef06",
   "metadata": {},
   "outputs": [
    {
     "data": {
      "text/plain": [
       "1500228566.7043986"
      ]
     },
     "execution_count": 4,
     "metadata": {},
     "output_type": "execute_result"
    }
   ],
   "source": [
    "import numpy as np\n",
    "inv_W = np.linalg.inv(W)\n",
    "0.5 * y.T @ inv_W @ y"
   ]
  },
  {
   "cell_type": "code",
   "execution_count": 28,
   "id": "bd47c1c8",
   "metadata": {},
   "outputs": [],
   "source": [
    "# Small sample\n",
    "y = np.array([-84.906390, -37.704329, -46.786032, -7.697729, -31.427601, -23.894639, -21.340848])\n",
    "S = np.array([[1, 1, 1, 1], [1, 1, 0, 0], [0, 0, 1, 1], [1, 0, 0, 0], [0, 1, 0, 0], [0, 0, 1, 0], [0, 0, 0, 1]])\n",
    "W = np.diag([1,1,1,1,1,1,1]) # W = np.identity(S.shape[0])"
   ]
  },
  {
   "cell_type": "code",
   "execution_count": 29,
   "id": "8fd66048",
   "metadata": {},
   "outputs": [
    {
     "name": "stdout",
     "output_type": "stream",
     "text": [
      "Set parameter Username\n",
      "Academic license - for non-commercial use only - expires 2024-01-22\n",
      "Gurobi Optimizer version 10.0.1 build v10.0.1rc0 (mac64[rosetta2])\n",
      "\n",
      "CPU model: Apple M1 Pro\n",
      "Thread count: 8 physical cores, 8 logical processors, using up to 8 threads\n",
      "\n",
      "Optimize a model with 86 rows, 70 columns and 286 nonzeros\n",
      "Model fingerprint: 0x1342b685\n",
      "Model has 35 quadratic objective terms\n",
      "Coefficient statistics:\n",
      "  Matrix range     [1e+00, 8e+01]\n",
      "  Objective range  [0e+00, 0e+00]\n",
      "  QObjective range [2e-02, 1e+00]\n",
      "  Bounds range     [1e+00, 8e+01]\n",
      "  RHS range        [1e+00, 8e+01]\n",
      "Presolve removed 16 rows and 23 columns\n",
      "Presolve time: 0.00s\n",
      "Presolved: 70 rows, 47 columns, 215 nonzeros\n",
      "Presolved model has 35 quadratic objective terms\n",
      "Ordering time: 0.00s\n",
      "\n",
      "Barrier statistics:\n",
      " AA' NZ     : 4.860e+02\n",
      " Factor NZ  : 1.591e+03\n",
      " Factor Ops : 4.270e+04 (less than 1 second per iteration)\n",
      " Threads    : 1\n",
      "\n",
      "                  Objective                Residual\n",
      "Iter       Primal          Dual         Primal    Dual     Compl     Time\n",
      "   0   7.59084641e+06 -8.20031814e+06  4.00e+03 2.74e+02  9.28e+05     0s\n",
      "   1   3.51520858e+05 -7.14907071e+05  1.14e+02 1.21e+01  4.76e+04     0s\n",
      "   2   8.57687991e+01 -2.62428413e+05  6.26e+00 3.49e-01  3.00e+03     0s\n",
      "   3   1.84648505e+00 -2.63446388e+04  1.28e-03 2.07e-04  1.68e+02     0s\n",
      "   4   1.79522651e+00 -9.41520643e+01  3.37e-06 5.43e-07  6.11e-01     0s\n",
      "   5   1.03393162e+00 -6.50138085e-01  2.01e-09 3.24e-10  1.07e-02     0s\n",
      "   6   9.26904223e-01  2.49422009e-01  1.42e-14 1.42e-14  4.32e-03     0s\n",
      "   7   8.38962980e-01  6.50857736e-01  1.42e-14 1.88e-16  1.20e-03     0s\n",
      "   8   8.11134982e-01  8.00387459e-01  1.42e-14 1.42e-14  6.85e-05     0s\n",
      "   9   8.07474271e-01  8.06524362e-01  1.42e-14 1.51e-16  6.05e-06     0s\n",
      "  10   8.07193147e-01  8.07132442e-01  6.82e-13 1.42e-14  3.87e-07     0s\n",
      "  11   8.07188166e-01  8.07187956e-01  8.19e-12 1.42e-14  1.34e-09     0s\n",
      "  12   8.07188158e-01  8.07188158e-01  1.88e-12 1.42e-14  1.34e-12     0s\n",
      "\n",
      "Barrier solved model in 12 iterations and 0.02 seconds (0.00 work units)\n",
      "Optimal objective 8.07188158e-01\n",
      "\n",
      "Set parameter TimeLimit to value 600\n",
      "Gurobi Optimizer version 10.0.1 build v10.0.1rc0 (mac64[rosetta2])\n",
      "\n",
      "CPU model: Apple M1 Pro\n",
      "Thread count: 8 physical cores, 8 logical processors, using up to 8 threads\n",
      "\n",
      "Optimize a model with 86 rows, 70 columns and 286 nonzeros\n",
      "Model fingerprint: 0xa66d01c3\n",
      "Model has 35 quadratic objective terms\n",
      "Variable types: 63 continuous, 7 integer (7 binary)\n",
      "Coefficient statistics:\n",
      "  Matrix range     [1e+00, 8e+01]\n",
      "  Objective range  [0e+00, 0e+00]\n",
      "  QObjective range [2e-02, 1e+00]\n",
      "  Bounds range     [1e+00, 8e+01]\n",
      "  RHS range        [1e+00, 8e+01]\n",
      "\n",
      "User MIP start 0 produced solution with objective 2.40054 (0.00s)\n",
      "Loaded user MIP start 0 with objective 2.40054\n",
      "User MIP start 1 produced solution with objective 0.807188 (0.01s)\n",
      "Loaded user MIP start 1 with objective 0.807188\n",
      "User MIP start 2 did not produce a new incumbent solution\n",
      "\n",
      "Presolve removed 12 rows and 19 columns\n",
      "Presolve time: 0.00s\n",
      "Presolved: 74 rows, 51 columns, 203 nonzeros\n",
      "Presolved model has 35 quadratic objective terms\n",
      "Variable types: 51 continuous, 0 integer (0 binary)\n",
      "Root relaxation presolve time: 0.01s\n",
      "Root relaxation presolved: 74 rows, 51 columns, 203 nonzeros\n",
      "Root relaxation presolved model has 35 quadratic objective terms\n",
      "Root barrier log...\n",
      "\n",
      "Ordering time: 0.00s\n",
      "\n",
      "Barrier statistics:\n",
      " AA' NZ     : 3.460e+02\n",
      " Factor NZ  : 1.196e+03\n",
      " Factor Ops : 2.332e+04 (less than 1 second per iteration)\n",
      " Threads    : 1\n",
      "\n",
      "                  Objective                Residual\n",
      "Iter       Primal          Dual         Primal    Dual     Compl     Time\n",
      "   0   7.97678745e+06 -8.31288594e+06  1.88e+04 9.94e+02  1.00e+06     0s\n",
      "   1   1.71320372e+03 -2.57845698e+05  2.33e+02 1.24e+01  1.43e+04     0s\n",
      "   2   1.11894714e+00 -1.03641104e+05  2.33e-04 1.24e-05  6.28e+02     0s\n",
      "   3   1.11584164e+00 -1.35892330e+02  7.51e-08 3.98e-09  8.30e-01     0s\n",
      "   4   1.05202011e+00 -4.76059877e+00  3.09e-09 1.64e-10  3.52e-02     0s\n",
      "   5   8.76472272e-01 -4.07667030e-01  1.78e-15 1.78e-15  7.78e-03     0s\n",
      "   6   8.38287843e-01  7.59491593e-01  7.11e-15 3.55e-15  4.78e-04     0s\n",
      "   7   8.10285757e-01  8.01039951e-01  7.11e-15 2.99e-16  5.60e-05     0s\n",
      "   8   8.07311335e-01  8.06826739e-01  5.68e-14 8.88e-16  2.94e-06     0s\n",
      "   9   8.07188555e-01  8.07173265e-01  2.64e-12 1.78e-15  9.27e-08     0s\n",
      "  10   8.07188159e-01  8.07188143e-01  7.42e-12 5.16e-17  9.20e-11     0s\n",
      "\n",
      "Barrier solved model in 10 iterations and 0.02 seconds (0.00 work units)\n",
      "Optimal objective 8.07188159e-01\n",
      "\n",
      "\n",
      "Root relaxation: cutoff, 0 iterations, 0.01 seconds (0.00 work units)\n",
      "\n",
      "    Nodes    |    Current Node    |     Objective Bounds      |     Work\n",
      " Expl Unexpl |  Obj  Depth IntInf | Incumbent    BestBd   Gap | It/Node Time\n",
      "\n",
      "     0     0     cutoff    0         0.80719    0.80719  0.00%     -    0s\n",
      "\n",
      "Explored 1 nodes (0 simplex iterations) in 0.03 seconds (0.00 work units)\n",
      "Thread count was 8 (of 8 available processors)\n",
      "\n",
      "Solution count 1: 0.807188 \n",
      "\n",
      "Optimal solution found (tolerance 1.00e-04)\n",
      "Best objective 8.071881582225e-01, best bound 8.071881582225e-01, gap 0.0000%\n"
     ]
    }
   ],
   "source": [
    "G, Z, obj, gap, opt = miqp(y, S, W, l0 = 0, l2 = 0.01, MIPGap = 0.0001, LogToConsole = 1, OutputFlag = 1, WarmStart = True)"
   ]
  },
  {
   "cell_type": "code",
   "execution_count": 5,
   "id": "13e0c8cb",
   "metadata": {},
   "outputs": [
    {
     "data": {
      "text/plain": [
       "0.0"
      ]
     },
     "execution_count": 5,
     "metadata": {},
     "output_type": "execute_result"
    }
   ],
   "source": [
    "gap"
   ]
  },
  {
   "cell_type": "code",
   "execution_count": 6,
   "id": "d4568e93",
   "metadata": {},
   "outputs": [
    {
     "data": {
      "text/plain": [
       "array([10,  6,  4,  2,  4,  1,  6])"
      ]
     },
     "execution_count": 6,
     "metadata": {},
     "output_type": "execute_result"
    }
   ],
   "source": [
    "y"
   ]
  },
  {
   "cell_type": "code",
   "execution_count": 7,
   "id": "d387d0e7",
   "metadata": {},
   "outputs": [
    {
     "data": {
      "text/plain": [
       "array([[1, 1, 1, 1],\n",
       "       [1, 1, 0, 0],\n",
       "       [0, 0, 1, 1],\n",
       "       [1, 0, 0, 0],\n",
       "       [0, 1, 0, 0],\n",
       "       [0, 0, 1, 0],\n",
       "       [0, 0, 0, 1]])"
      ]
     },
     "execution_count": 7,
     "metadata": {},
     "output_type": "execute_result"
    }
   ],
   "source": [
    "S"
   ]
  },
  {
   "cell_type": "code",
   "execution_count": 8,
   "id": "7c5ba674",
   "metadata": {},
   "outputs": [
    {
     "data": {
      "text/plain": [
       "array([[1, 0, 0, 0, 0, 0, 0],\n",
       "       [0, 1, 0, 0, 0, 0, 0],\n",
       "       [0, 0, 1, 0, 0, 0, 0],\n",
       "       [0, 0, 0, 1, 0, 0, 0],\n",
       "       [0, 0, 0, 0, 1, 0, 0],\n",
       "       [0, 0, 0, 0, 0, 1, 0],\n",
       "       [0, 0, 0, 0, 0, 0, 1]])"
      ]
     },
     "execution_count": 8,
     "metadata": {},
     "output_type": "execute_result"
    }
   ],
   "source": [
    "W"
   ]
  },
  {
   "cell_type": "code",
   "execution_count": 9,
   "id": "3d4aa327",
   "metadata": {},
   "outputs": [
    {
     "data": {
      "text/plain": [
       "(7,)"
      ]
     },
     "execution_count": 9,
     "metadata": {},
     "output_type": "execute_result"
    }
   ],
   "source": [
    "y.shape"
   ]
  },
  {
   "cell_type": "code",
   "execution_count": 10,
   "id": "6063d2cc",
   "metadata": {},
   "outputs": [
    {
     "data": {
      "text/plain": [
       "(7, 4)"
      ]
     },
     "execution_count": 10,
     "metadata": {},
     "output_type": "execute_result"
    }
   ],
   "source": [
    "S.shape"
   ]
  },
  {
   "cell_type": "code",
   "execution_count": 12,
   "id": "ccade529",
   "metadata": {},
   "outputs": [
    {
     "data": {
      "text/plain": [
       "2.449489742783178"
      ]
     },
     "execution_count": 12,
     "metadata": {},
     "output_type": "execute_result"
    }
   ],
   "source": [
    "a = np.arange(4) - 2\n",
    "from numpy import linalg as LA\n",
    "LA.norm(a, 2)"
   ]
  },
  {
   "cell_type": "code",
   "execution_count": 13,
   "id": "9d716e29",
   "metadata": {},
   "outputs": [
    {
     "data": {
      "text/plain": [
       "array([-2, -1,  0,  1])"
      ]
     },
     "execution_count": 13,
     "metadata": {},
     "output_type": "execute_result"
    }
   ],
   "source": [
    "a"
   ]
  },
  {
   "cell_type": "code",
   "execution_count": 14,
   "id": "2e7e489a",
   "metadata": {},
   "outputs": [
    {
     "data": {
      "text/plain": [
       "5.999999999999999"
      ]
     },
     "execution_count": 14,
     "metadata": {},
     "output_type": "execute_result"
    }
   ],
   "source": [
    "LA.norm(a) * LA.norm(a)"
   ]
  },
  {
   "cell_type": "code",
   "execution_count": 15,
   "id": "0988620d",
   "metadata": {},
   "outputs": [
    {
     "data": {
      "text/plain": [
       "array([[-2, -1],\n",
       "       [ 0,  1]])"
      ]
     },
     "execution_count": 15,
     "metadata": {},
     "output_type": "execute_result"
    }
   ],
   "source": [
    "b = a.reshape((2, 2))\n",
    "b"
   ]
  },
  {
   "cell_type": "code",
   "execution_count": 17,
   "id": "81f7dead",
   "metadata": {},
   "outputs": [
    {
     "data": {
      "text/plain": [
       "5.999999999999999"
      ]
     },
     "execution_count": 17,
     "metadata": {},
     "output_type": "execute_result"
    }
   ],
   "source": [
    "LA.norm(b) **2 "
   ]
  },
  {
   "cell_type": "code",
   "execution_count": 18,
   "id": "4274f66f",
   "metadata": {},
   "outputs": [
    {
     "data": {
      "text/plain": [
       "3"
      ]
     },
     "execution_count": 18,
     "metadata": {},
     "output_type": "execute_result"
    }
   ],
   "source": [
    "abs(-3)"
   ]
  },
  {
   "cell_type": "code",
   "execution_count": 26,
   "id": "9184d964",
   "metadata": {},
   "outputs": [
    {
     "data": {
      "text/plain": [
       "-7.697729"
      ]
     },
     "execution_count": 26,
     "metadata": {},
     "output_type": "execute_result"
    }
   ],
   "source": [
    "np.amax(y)"
   ]
  },
  {
   "cell_type": "code",
   "execution_count": null,
   "id": "896cb56c",
   "metadata": {},
   "outputs": [],
   "source": []
  }
 ],
 "metadata": {
  "kernelspec": {
   "display_name": "Python 3 (ipykernel)",
   "language": "python",
   "name": "python3"
  },
  "language_info": {
   "codemirror_mode": {
    "name": "ipython",
    "version": 3
   },
   "file_extension": ".py",
   "mimetype": "text/x-python",
   "name": "python",
   "nbconvert_exporter": "python",
   "pygments_lexer": "ipython3",
   "version": "3.9.13"
  }
 },
 "nbformat": 4,
 "nbformat_minor": 5
}
