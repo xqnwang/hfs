{
 "cells": [
  {
   "cell_type": "code",
   "execution_count": 1,
   "id": "b02929a0",
   "metadata": {},
   "outputs": [],
   "source": [
    "import numpy as np\n",
    "import scipy as sc\n",
    "import math\n",
    "from bnb import gen_synthetic\n",
    "import pandas as pd"
   ]
  },
  {
   "cell_type": "code",
   "execution_count": 2,
   "id": "a7d8b1ba",
   "metadata": {},
   "outputs": [],
   "source": [
    "y = pd.read_csv(\"../../hfs/data/tourism_y.csv\")\n",
    "y = y['V1'].to_numpy()\n",
    "\n",
    "x = pd.read_csv(\"../../hfs/data/tourism_x.csv\")\n",
    "x = x.to_numpy()\n",
    "\n",
    "group = pd.read_csv(\"../../hfs/data/tourism_group.csv\")\n",
    "group_indices = []\n",
    "for column in group.columns:\n",
    "    list1 = group[column].astype(int).tolist()\n",
    "    group_indices.append(list1)\n",
    "\n",
    "ols_G = pd.read_csv(\"../../hfs/data/tourism_ols_G.csv\")\n",
    "ols_G = ols_G['x'].to_numpy()"
   ]
  },
  {
   "cell_type": "code",
   "execution_count": 3,
   "id": "d404a26e",
   "metadata": {},
   "outputs": [
    {
     "name": "stdout",
     "output_type": "stream",
     "text": [
      "Set parameter Username\n",
      "Academic license - for non-commercial use only - expires 2024-01-22\n"
     ]
    }
   ],
   "source": [
    "\"\"\"This cell demonstrates how to run the BnB algorithm.\n",
    "\n",
    "The algorithm optimizes the following objective function:\n",
    "\n",
    "    0.5*||y-XB||^2 + lambda_0 * G(B) + lambda_2 ||B||^2\n",
    "    \n",
    "where G(B) counts the number of nonzero groups (as defined in the paper).\n",
    "\n",
    "\"\"\"\n",
    "from bnb import BNBTree\n",
    "\n",
    "\"\"\"\n",
    "First, we create a BnBTree object and initialize it with the following:\n",
    "   x: Data matrix\n",
    "   y: Response vector\n",
    "   group_indices: A list of size num_groups. The ith element contains the indices of the predictors in group i.\n",
    "\"\"\"\n",
    "\n",
    "tree = BNBTree(x, y, group_indices=group_indices)\n",
    "\n",
    "\"\"\"\n",
    "Call tree.solve(...) to run BnB for a given set of reguralization parameters. tree.solve accepts:\n",
    "    lambda_0: The regularization parameter for the L0 norm.\n",
    "    lambda_2: The regularization parameter for the L2 norm.\n",
    "    m: The value of the Big M.\n",
    "    warm_start: The initial solution.\n",
    "\"\"\"\n",
    "\n",
    "solver_output = tree.solve(lambda_0=100, lambda_2=0.0001, m=2, warm_start=ols_G)"
   ]
  },
  {
   "cell_type": "code",
   "execution_count": 4,
   "id": "cd854739",
   "metadata": {},
   "outputs": [
    {
     "name": "stdout",
     "output_type": "stream",
     "text": [
      "Solution(cost=88485.08118960538, beta=array([5.16468515e-02, 1.46861851e-02, 2.10452863e-02, ...,\n",
      "       9.76172961e-08, 1.51487889e-07, 3.96562328e-08]), sol_time=55.447592973709106, lower_bound={0: 172347.98058384456}, gap=-0.9477631513332535)\n"
     ]
    }
   ],
   "source": [
    "print(solver_output)\n",
    "# solver_output.beta contains the solution."
   ]
  },
  {
   "cell_type": "code",
   "execution_count": null,
   "id": "cdf848c5",
   "metadata": {},
   "outputs": [],
   "source": [
    "np.savetxt(\"../../hfs/data/tourism_beta.csv\", solver_output.beta, delimiter=\",\")"
   ]
  }
 ],
 "metadata": {
  "kernelspec": {
   "display_name": "Python 3 (ipykernel)",
   "language": "python",
   "name": "python3"
  },
  "language_info": {
   "codemirror_mode": {
    "name": "ipython",
    "version": 3
   },
   "file_extension": ".py",
   "mimetype": "text/x-python",
   "name": "python",
   "nbconvert_exporter": "python",
   "pygments_lexer": "ipython3",
   "version": "3.9.13"
  }
 },
 "nbformat": 4,
 "nbformat_minor": 5
}
