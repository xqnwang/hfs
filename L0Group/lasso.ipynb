{
 "cells": [
  {
   "cell_type": "code",
   "execution_count": null,
   "id": "36f73888",
   "metadata": {},
   "outputs": [],
   "source": [
    "import numpy as np\n",
    "from numpy import linalg as LA\n",
    "import gurobipy as gp\n",
    "from gurobipy import GRB, quicksum\n",
    "# Gurobi Optimizer version 10.0.1 build v10.0.1rc0\n",
    "\n",
    "def socp(y, S, W, l1 = 0, weight = True, unbiased = True, TimeLimit = 0, LogToConsole = 0, OutputFlag = 0):\n",
    "    \"\"\"\n",
    "    Solve the OP problem: min_{G} 0.5 * (y - SGy)' W^{-1} (y - SGy) + l1 * sum_{j}(||G_{.j}||_2)\n",
    "                          s.t. GS = I\n",
    "                          \n",
    "\n",
    "    Parameters\n",
    "    ----------\n",
    "    y : np.array\n",
    "        1-d numpy array of base forecasts with size n.\n",
    "    S : np.array\n",
    "        n x nb numpy array describing the hierarchy structure.\n",
    "    W : np.array\n",
    "        n x n numpy array. The covariance matrix of the base forecast errors.\n",
    "    l1 : float, optional\n",
    "        lagrange multiplier.\n",
    "    weight: int\n",
    "        Enables weighted group-lasso when it is True.\n",
    "    unbiased: int\n",
    "        Includes unbiasedness constraint\n",
    "    TimeLimit: float, optional\n",
    "        set a timeout for gurobi.\n",
    "    LogToConsole: int, optional\n",
    "        Enables or disables console logging. Use OutputFlag to shut off all logging.\n",
    "    OutputFlag: int, optional\n",
    "        Enables or disables solver output. Use LogFile and LogToConsole for finer-grain control. Setting OutputFlag to 0 is equivalent to setting LogFile to \"\" and LogToConsole to 0.\n",
    "        \n",
    "        \n",
    "    Returns\n",
    "    -------\n",
    "    1-d numpy array of diagonal elements of A.\n",
    "\n",
    "    \"\"\"\n",
    "            \n",
    "    n = S.shape[0]\n",
    "    nb = S.shape[1]\n",
    "    p = nb * n\n",
    "    \n",
    "    y = y.reshape((n,)) # reshape imported R object from (n, 1) to (n,)\n",
    "    I = np.identity(nb)\n",
    "    inv_W = np.linalg.inv(W)\n",
    "    \n",
    "    \"\"\" MinT solution \"\"\"\n",
    "    R = S.T @ inv_W\n",
    "    G_mint = np.linalg.inv(R @ S) @ R\n",
    "    if weight:\n",
    "        w = 1/LA.norm(G_mint, axis=0)\n",
    "    else:\n",
    "        w = np.repeat(1, n)\n",
    "        \n",
    "    \"\"\" SUPPRESS ALL OUTPUT \"\"\"\n",
    "    env = gp.Env(empty=True)\n",
    "    env.setParam(\"OutputFlag\",OutputFlag)\n",
    "    env.start()\n",
    "    \n",
    "    \"\"\" SOCP MODEL \"\"\"\n",
    "    model = gp.Model('SOCP', env=env) # the optimization model\n",
    "    \n",
    "    \"\"\" PARAMETERS \"\"\"\n",
    "    # G matrix\n",
    "    G = model.addMVar(shape=(p, ), vtype=GRB.CONTINUOUS,\n",
    "                      ub=GRB.INFINITY, lb=-GRB.INFINITY)\n",
    "    # Error\n",
    "    E = model.addMVar(shape=(n, ), vtype=GRB.CONTINUOUS,\n",
    "                      ub=GRB.INFINITY, lb=-GRB.INFINITY)\n",
    "    # Auxiliary variables for l2 norm\n",
    "    AUX = model.addMVar(shape=(n, ), vtype=GRB.CONTINUOUS,\n",
    "                  ub=GRB.INFINITY, lb=np.repeat(0, n))\n",
    "    model.update()\n",
    "\n",
    "    \"\"\" OBJECTIVE \"\"\"\n",
    "    model.setObjective(0.5 * E.T @ inv_W @ E + l1 * quicksum(w * AUX), GRB.MINIMIZE)\n",
    "\n",
    "    \"\"\" CONSTRAINTS \"\"\"\n",
    "    model.addConstr(y == E + np.kron(y.T, S) @ G)\n",
    "    # SOC constraints\n",
    "    for j in range(n):\n",
    "        model.addGenConstrNorm(AUX[j], G[(j*nb):((j+1)*nb)], 2)\n",
    "    # Unbiasedness constraint\n",
    "    if unbiased:\n",
    "        model.addConstr(I.reshape(-1) == np.kron(S.T, I) @ G)\n",
    "    model.update()\n",
    "    \n",
    "    \"\"\" OUTPUT THE MODEL TO A FILE \"\"\" \n",
    "    # model.write(\"myfile.lp\")\n",
    "    \n",
    "    \"\"\" OPTIMIZE \"\"\"\n",
    "    model.Params.OutputFlag = OutputFlag\n",
    "    model.Params.LogToConsole = LogToConsole\n",
    "    if TimeLimit > 0:\n",
    "        model.params.TimeLimit = TimeLimit\n",
    "    model.optimize()\n",
    "    # model.Params.Threads = 1\n",
    "    \n",
    "    g = G.X\n",
    "    G = g.reshape(n, nb).T\n",
    "    Z = 1 - (~(abs(G) > 1e-8).any(axis=0))*1\n",
    "    obj = model.objval\n",
    "    \n",
    "    return G, Z, obj"
   ]
  },
  {
   "cell_type": "code",
   "execution_count": null,
   "id": "51bb9426",
   "metadata": {},
   "outputs": [],
   "source": [
    "# tourism data\n",
    "import pandas as pd\n",
    "y = pd.read_csv(\"../../hfs/data/tourism_y.csv\")\n",
    "y = y['V1'].to_numpy()\n",
    "\n",
    "S = pd.read_csv(\"../../hfs/data/tourism_S.csv\")\n",
    "S = S.to_numpy()\n",
    "\n",
    "W = np.identity(S.shape[0])"
   ]
  },
  {
   "cell_type": "code",
   "execution_count": null,
   "id": "b7c54677",
   "metadata": {},
   "outputs": [],
   "source": [
    "G, Z, obj = socp(y, S, W, l1 = 100, weight = False, unbiased = True, LogToConsole = 0, OutputFlag = 0)\n",
    "Z"
   ]
  },
  {
   "cell_type": "code",
   "execution_count": null,
   "id": "0351f1ab",
   "metadata": {},
   "outputs": [],
   "source": [
    "G, Z, obj = socp(y, S, W, l1 = 100, weight = True, unbiased = True, LogToConsole = 0, OutputFlag = 0)\n",
    "Z"
   ]
  },
  {
   "cell_type": "code",
   "execution_count": null,
   "id": "654320ca",
   "metadata": {},
   "outputs": [],
   "source": [
    "G, Z, obj = socp(y, S, W, l1 = 100, weight = False, unbiased = False, LogToConsole = 0, OutputFlag = 0)\n",
    "Z"
   ]
  },
  {
   "cell_type": "code",
   "execution_count": null,
   "id": "c508f9ce",
   "metadata": {},
   "outputs": [],
   "source": [
    "G, Z, obj = socp(y, S, W, l1 = 100, weight = True, unbiased = False, LogToConsole = 0, OutputFlag = 0)\n",
    "Z"
   ]
  },
  {
   "cell_type": "code",
   "execution_count": null,
   "id": "53a9d3e8",
   "metadata": {},
   "outputs": [],
   "source": [
    "# Small sample\n",
    "y = np.array([10, 6, 4, 1, 5, 3, 3])\n",
    "S = np.array([[1, 1, 1, 1], [1, 1, 0, 0], [0, 0, 1, 1], [1, 0, 0, 0], [0, 1, 0, 0], [0, 0, 1, 0], [0, 0, 0, 1]])\n",
    "W = np.diag([1,1,1,1,1,1,1]) # W = np.identity(S.shape[0])"
   ]
  },
  {
   "cell_type": "code",
   "execution_count": null,
   "id": "cf9ffbd4",
   "metadata": {},
   "outputs": [],
   "source": [
    "G, Z, obj = socp(y, S, W, weight = True, unbiased = True, l1 = 0.1, LogToConsole = 0, OutputFlag = 0)\n",
    "Z"
   ]
  },
  {
   "cell_type": "code",
   "execution_count": null,
   "id": "df848f6d",
   "metadata": {},
   "outputs": [],
   "source": [
    "G"
   ]
  }
 ],
 "metadata": {
  "kernelspec": {
   "display_name": "Python 3 (ipykernel)",
   "language": "python",
   "name": "python3"
  },
  "language_info": {
   "codemirror_mode": {
    "name": "ipython",
    "version": 3
   },
   "file_extension": ".py",
   "mimetype": "text/x-python",
   "name": "python",
   "nbconvert_exporter": "python",
   "pygments_lexer": "ipython3",
   "version": "3.9.13"
  }
 },
 "nbformat": 4,
 "nbformat_minor": 5
}
