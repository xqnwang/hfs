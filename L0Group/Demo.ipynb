{
 "cells": [
  {
   "cell_type": "code",
   "execution_count": 1,
   "metadata": {},
   "outputs": [],
   "source": [
    "\"\"\"This cell generates synthetic data as described in Section 6.1 of the paper.\n",
    "The correlation is exponentially decaying (i.e., Setting 1) and the nonzero coefficients\n",
    "are all set to 1.\n",
    "\"\"\"\n",
    "\n",
    "import numpy as np\n",
    "import scipy as sc\n",
    "import math\n",
    "from bnb import gen_synthetic\n",
    "\n",
    "\n",
    "# Set the data generation parameters.\n",
    "rho = 0.3 # Correlation parameter.\n",
    "n = 1000 # Number of observations.\n",
    "p = 100 # Number of features. \n",
    "k0 = 5 # Number of nonzero groups.\n",
    "SNR = 10 # Signal-to-noise ratio.\n",
    "Gsize = 10 # Group size.\n",
    "\n",
    "x, y, group_indices, true_coefs = gen_synthetic(rho,n,p,k0,SNR,Gsize)"
   ]
  },
  {
   "cell_type": "code",
   "execution_count": 2,
   "metadata": {},
   "outputs": [
    {
     "name": "stdout",
     "output_type": "stream",
     "text": [
      "Academic license - for non-commercial use only - expires 2021-04-26\n",
      "Using license file /Users/hh/gurobi.lic\n"
     ]
    }
   ],
   "source": [
    "\"\"\"This cell demonstrates how to run the BnB algorithm.\n",
    "\n",
    "The algorithm optimizes the following objective function:\n",
    "\n",
    "    0.5*||y-XB||^2 + lambda_0 * G(B) + lambda_2 ||B||^2\n",
    "    \n",
    "where G(B) counts the number of nonzero groups (as defined in the paper).\n",
    "\n",
    "\"\"\"\n",
    "from bnb import BNBTree\n",
    "\n",
    "\"\"\"\n",
    "First, we create a BnBTree object and initialize it with the following:\n",
    "   x: Data matrix\n",
    "   y: Response vector\n",
    "   group_indices: A list of size num_groups. The ith element contains the indices of the predictors in group i.\n",
    "\"\"\"\n",
    "\n",
    "tree = BNBTree(x, y, group_indices=group_indices)\n",
    "\n",
    "\"\"\"\n",
    "Call tree.solve(...) to run BnB for a given set of reguralization parameters. tree.solve accepts:\n",
    "    lambda_0: The regularization parameter for the L0 norm.\n",
    "    lambda_2: The regularization parameter for the L2 norm.\n",
    "    m: The value of the Big M.\n",
    "    warm_start: The initial solution.\n",
    "\"\"\"\n",
    "\n",
    "solver_output = tree.solve(lambda_0=10000, lambda_2=1000, m=3, warm_start=true_coefs)"
   ]
  },
  {
   "cell_type": "code",
   "execution_count": 3,
   "metadata": {},
   "outputs": [
    {
     "name": "stdout",
     "output_type": "stream",
     "text": [
      "Solution(cost=122611.99262027604, beta=array([0.82945267, 0.89144701, 0.91953546, 0.86141272, 0.86516223,\n",
      "       0.83967938, 0.85712663, 0.91397311, 0.82921268, 0.83374505,\n",
      "       0.        , 0.        , 0.        , 0.        , 0.        ,\n",
      "       0.        , 0.        , 0.        , 0.        , 0.        ,\n",
      "       0.85116191, 0.87063195, 0.78903885, 0.80825977, 0.81169689,\n",
      "       0.85553931, 0.74675512, 0.85250995, 0.80827098, 0.82519644,\n",
      "       0.        , 0.        , 0.        , 0.        , 0.        ,\n",
      "       0.        , 0.        , 0.        , 0.        , 0.        ,\n",
      "       0.85968506, 0.92415876, 0.92362982, 0.90563082, 0.93315325,\n",
      "       0.93518654, 0.87156978, 0.89851305, 0.84637144, 0.86678905,\n",
      "       0.        , 0.        , 0.        , 0.        , 0.        ,\n",
      "       0.        , 0.        , 0.        , 0.        , 0.        ,\n",
      "       0.84610101, 0.81319322, 0.85054379, 0.86686436, 0.80075785,\n",
      "       0.76823883, 0.84076327, 0.84500014, 0.8642548 , 0.86361795,\n",
      "       0.        , 0.        , 0.        , 0.        , 0.        ,\n",
      "       0.        , 0.        , 0.        , 0.        , 0.        ,\n",
      "       0.        , 0.        , 0.        , 0.        , 0.        ,\n",
      "       0.        , 0.        , 0.        , 0.        , 0.        ,\n",
      "       0.78973604, 0.83592057, 0.80269092, 0.8217134 , 0.79975643,\n",
      "       0.84508054, 0.8657092 , 0.78125158, 0.90962114, 0.75812238]), sol_time=5.168209075927734, lower_bound={0: 121324.70098508356, 1: 121679.57546832097}, gap=0.0076046162535073365)\n"
     ]
    }
   ],
   "source": [
    "print(solver_output)\n",
    "# solver_output.beta contains the solution."
   ]
  },
  {
   "cell_type": "code",
   "execution_count": 4,
   "metadata": {},
   "outputs": [
    {
     "name": "stdout",
     "output_type": "stream",
     "text": [
      "Objective:  122612.01230645685\n",
      "Solution:  [0.83003784 0.89108178 0.9187789  0.86131885 0.86513309 0.84007621\n",
      " 0.85716887 0.91340719 0.83010533 0.83365805 0.         0.\n",
      " 0.         0.         0.         0.         0.         0.\n",
      " 0.         0.         0.85070453 0.87003903 0.78881707 0.80895292\n",
      " 0.81106976 0.85479548 0.74801805 0.85210065 0.80881865 0.82579907\n",
      " 0.         0.         0.         0.         0.         0.\n",
      " 0.         0.         0.         0.         0.8602322  0.9234094\n",
      " 0.92322945 0.90516406 0.93312893 0.93449248 0.8716701  0.89911364\n",
      " 0.84711608 0.86712277 0.         0.         0.         0.\n",
      " 0.         0.         0.         0.         0.         0.\n",
      " 0.84593727 0.81365817 0.85040533 0.86648396 0.80078602 0.76979092\n",
      " 0.8406259  0.84478778 0.86372381 0.86311515 0.         0.\n",
      " 0.         0.         0.         0.         0.         0.\n",
      " 0.         0.         0.         0.         0.         0.\n",
      " 0.         0.         0.         0.         0.         0.\n",
      " 0.79016068 0.83554466 0.80307626 0.82181789 0.80025554 0.8444721\n",
      " 0.86464681 0.78210754 0.90831537 0.75916278]\n"
     ]
    }
   ],
   "source": [
    "\"\"\"This cell demonstrates how to run the CD algorithm.\"\"\"\n",
    "\n",
    "from cd import cd\n",
    "\n",
    "# The Params dictionary specifies some internal parameters used by CD.\n",
    "Params = {\n",
    "    'NumIters': 1000, # maximum number of CD full cycles.\n",
    "    'Tolerance': 1e-7 , # convergence tolerance.\n",
    "    'Logging': False, # prints output while running\n",
    "    'FeaturesOrder': 'Cyclic', # order in which CD updates the groups.\n",
    "}\n",
    "\n",
    "# x, y, group_indices are the same as those used in BNBTree.\n",
    "cd_object = cd(x, y, group_indices, Params)\n",
    "sol, obj = cd_object.fit(lambda_0=10000, lambda_2=1000, warm_start=np.zeros(x.shape[1]))\n",
    "print(\"Objective: \", obj)\n",
    "print(\"Solution: \", sol)"
   ]
  },
  {
   "cell_type": "code",
   "execution_count": 5,
   "metadata": {},
   "outputs": [
    {
     "name": "stdout",
     "output_type": "stream",
     "text": [
      "Objective:  122612.01230645685\n",
      "Solution:  [0.83003784 0.89108178 0.9187789  0.86131885 0.86513309 0.84007621\n",
      " 0.85716887 0.91340719 0.83010533 0.83365805 0.         0.\n",
      " 0.         0.         0.         0.         0.         0.\n",
      " 0.         0.         0.85070453 0.87003903 0.78881707 0.80895292\n",
      " 0.81106976 0.85479548 0.74801805 0.85210065 0.80881865 0.82579907\n",
      " 0.         0.         0.         0.         0.         0.\n",
      " 0.         0.         0.         0.         0.8602322  0.9234094\n",
      " 0.92322945 0.90516406 0.93312893 0.93449248 0.8716701  0.89911364\n",
      " 0.84711608 0.86712277 0.         0.         0.         0.\n",
      " 0.         0.         0.         0.         0.         0.\n",
      " 0.84593727 0.81365817 0.85040533 0.86648396 0.80078602 0.76979092\n",
      " 0.8406259  0.84478778 0.86372381 0.86311515 0.         0.\n",
      " 0.         0.         0.         0.         0.         0.\n",
      " 0.         0.         0.         0.         0.         0.\n",
      " 0.         0.         0.         0.         0.         0.\n",
      " 0.79016068 0.83554466 0.80307626 0.82181789 0.80025554 0.8444721\n",
      " 0.86464681 0.78210754 0.90831537 0.75916278]\n"
     ]
    }
   ],
   "source": [
    "\"\"\"This cell demonstrates how to run the CD + Local Search algorithm.\"\"\"\n",
    "\n",
    "from cd import cd_swaps\n",
    "\n",
    "Params = {\n",
    "    'NumIters': 1000, # maximum number of CD full cycles.\n",
    "    'Tolerance': 1e-7 , # convergence tolerance.\n",
    "    'Logging': False, # prints output while running\n",
    "    'FeaturesOrder': 'Cyclic', # order in which CD updates the variables.\n",
    "}\n",
    "\n",
    "cd_swaps_object = cd_swaps(x, y, group_indices, Params)\n",
    "# The fit function takes the same arguments as that of CD, in addition to \"max_swaps\" \n",
    "# which sets the maximum number of group swaps the local search algorithms can perform.\n",
    "sol, obj = cd_swaps_object.fit(lambda_0=10000, lambda_2=1000, max_swaps=10, warm_start=np.zeros(x.shape[1]))\n",
    "print(\"Objective: \", obj)\n",
    "print(\"Solution: \", sol)"
   ]
  }
 ],
 "metadata": {
  "kernelspec": {
   "display_name": "Python 3",
   "language": "python",
   "name": "python3"
  },
  "language_info": {
   "codemirror_mode": {
    "name": "ipython",
    "version": 3
   },
   "file_extension": ".py",
   "mimetype": "text/x-python",
   "name": "python",
   "nbconvert_exporter": "python",
   "pygments_lexer": "ipython3",
   "version": "3.8.5"
  }
 },
 "nbformat": 4,
 "nbformat_minor": 4
}
