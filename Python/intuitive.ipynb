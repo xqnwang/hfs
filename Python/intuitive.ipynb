{
 "cells": [
  {
   "cell_type": "code",
   "execution_count": 1,
   "id": "461a1b8f",
   "metadata": {},
   "outputs": [],
   "source": [
    "import numpy as np\n",
    "import pandas as pd\n",
    "import math\n",
    "import gurobipy as gp\n",
    "from gurobipy import *\n",
    "# Gurobi Optimizer version 10.0.1 build v10.0.1rc0\n",
    "\n",
    "def miqp_AS(y, S, W, l0 = 0, m = None, MIPGap = None, TimeLimit = 600, LogToConsole = 0, OutputFlag = 0, MIPFocus = 0, Cuts = -1):\n",
    "    \"\"\"\n",
    "    Solve the OP problem: min_{A, G_bar} 0.5 * (y - S G_bar y)' W^{-1} (y - S G_bar y) + l0 * sum(A)\n",
    "                          s.t. G_bar = (S'A'W^{-1}AS)^{-1}S'A'W^{-1}\n",
    "                               G_bar S = I\n",
    "\n",
    "    Parameters\n",
    "    ----------\n",
    "    y : np.array\n",
    "        1-d numpy array of base forecasts with size n.\n",
    "    S : np.array\n",
    "        n x nb numpy array describing the hierarchy structure.\n",
    "    W : np.array\n",
    "        n x n numpy array. The covariance matrix of the base forecast errors.\n",
    "    l0 : float, optional\n",
    "        lagrange multiplier. \n",
    "    m : float, optional\n",
    "        bound of G matrix elements.\n",
    "    MIPGap: float, optional\n",
    "        the MIP solver will terminate (with an optimal result) when the gap between the lower and upper objective bound is less than MIPGap times the absolute value of the incumbent objective value\n",
    "    TimeLimit: float, optional\n",
    "        set a timeout for gurobi.\n",
    "    LogToConsole: int, optional\n",
    "        Enables or disables console logging. Use OutputFlag to shut off all logging.\n",
    "    OutputFlag: int, optional\n",
    "        Enables or disables solver output. Use LogFile and LogToConsole for finer-grain control. Setting OutputFlag to 0 is equivalent to setting LogFile to \"\" and LogToConsole to 0.\n",
    "    MIPFocus: int, optional\n",
    "        If you are more interested in finding feasible solutions quickly, you can select MIPFocus=1. If you believe the solver is having no trouble finding good quality solutions, and wish to focus more attention on proving optimality, select MIPFocus=2. If the best objective bound is moving very slowly (or not at all), you may want to try MIPFocus=3 to focus on the bound.\n",
    "    Cuts: int, optional\n",
    "        Global cut aggressiveness setting. Use value 0 to shut off cuts, 1 for moderate cut generation, 2 for aggressive cut generation, and 3 for very aggressive cut generation. This parameter is overridden by the parameters that control individual cut types (e.g., CliqueCuts).\n",
    "    \n",
    "    \n",
    "    Returns\n",
    "    -------\n",
    "    G, Z (1-d numpy array of diagonal elements of A), obj, gap, opt\n",
    "\n",
    "    \"\"\"\n",
    "    \n",
    "    n = S.shape[0]\n",
    "    nb = S.shape[1]\n",
    "    p = nb * n\n",
    "    \n",
    "    y = y.reshape((n,)) # reshape imported R object from (n, 1) to (n,)\n",
    "    I = np.identity(nb)\n",
    "    inv_W = np.linalg.inv(W)\n",
    "    \n",
    "    \"\"\" MinT solution \"\"\"\n",
    "    R = S.T @ inv_W\n",
    "    G_mint = np.linalg.inv(R @ S) @ R\n",
    "    obj_guess = 0.5 * (y - S@G_mint@y).T @ inv_W @ (y - S@G_mint@y) + l0 * nb\n",
    "    \n",
    "    if m is None:\n",
    "        m = np.amax(abs(G_mint)) + 1\n",
    "        \n",
    "    if MIPGap is None:\n",
    "        if n <= 50:\n",
    "            MIPGap = 0.0001\n",
    "        else:\n",
    "            MIPGap = 0.001\n",
    "    \n",
    "    emax = np.amax(abs(y))\n",
    "    \n",
    "    \"\"\" SUPPRESS ALL OUTPUT \"\"\"\n",
    "    env = gp.Env(empty=True)\n",
    "    env.setParam(\"OutputFlag\",OutputFlag)\n",
    "    env.start()\n",
    "    \n",
    "    \"\"\" MODEL \"\"\"\n",
    "    model = gp.Model('MIP_AS')\n",
    "    \n",
    "    \"\"\" PARAMETERS \"\"\"\n",
    "    ## A matrix\n",
    "    A = model.addMVar(shape=(n, n), vtype=GRB.BINARY,\n",
    "                      ub=np.identity(n), lb=np.diag(np.repeat(0, n)))\n",
    "    ## G matrix\n",
    "    G = model.addMVar(shape=(nb, n), vtype=GRB.CONTINUOUS,\n",
    "                      ub=np.repeat(m, p).reshape((nb, n)), lb=np.repeat(-m, p).reshape((nb, n)))\n",
    "    ## Error vetor used to enable Quadratic objective function\n",
    "    E = model.addMVar(shape=(n, ), vtype=GRB.CONTINUOUS,\n",
    "                      ub=np.repeat(emax, n), lb=np.repeat(-emax, n))\n",
    "    ## Matrix introduced to enforce the inverse equality constraint (inverse cannot be directly inluded in objective function and constraints) \n",
    "    C = model.addMVar(shape=(nb, nb), vtype=GRB.CONTINUOUS,\n",
    "                      ub=GRB.INFINITY, lb=-GRB.INFINITY)\n",
    "    model.update()\n",
    "\n",
    "    \"\"\" OBJECTIVE \"\"\"\n",
    "    model.setObjective(0.5 * E.T @ inv_W @ E + l0 * quicksum(A@np.repeat(1, n)), GRB.MINIMIZE)\n",
    "\n",
    "    \"\"\" CONSTRAINTS \"\"\"\n",
    "    AUX = S.T @ A.T @ inv_W\n",
    "    model.addConstr(E == y - S@G@y)\n",
    "    model.addConstr(C @ AUX == G) # invertible\n",
    "    model.addConstr(G @ S == I)\n",
    "    \n",
    "    #model.addConstr(E == y - S@G@y)\n",
    "    #model.addConstr(G@S == I)\n",
    "    #model.addConstr(S.T@A.T@inv_W@A@S@G == S.T@A.T@inv_W)\n",
    "    model.update()\n",
    "    \n",
    "    \"\"\" OPTIMIZE \"\"\"    \n",
    "    model.Params.MIPGap = MIPGap\n",
    "    model.Params.OutputFlag = OutputFlag\n",
    "    model.Params.LogToConsole = LogToConsole\n",
    "    model.Params.MIPFocus = MIPFocus\n",
    "    model.Params.Cuts = Cuts\n",
    "    if TimeLimit > 0:\n",
    "        model.params.TimeLimit = TimeLimit\n",
    "    model.optimize()\n",
    "    \n",
    "    G = G.X\n",
    "    Z = np.diag(A.X)\n",
    "    obj = model.objval\n",
    "    gap = model.MIPGap\n",
    "    if gap <= MIPGap or obj < obj_guess or abs(obj - obj_guess)/abs(obj_guess) < 0.01:\n",
    "        opt = 1\n",
    "    else:\n",
    "        opt = 0\n",
    "    \n",
    "    return G, Z, obj, gap, opt\n",
    "    "
   ]
  },
  {
   "cell_type": "code",
   "execution_count": 2,
   "id": "72c8da04",
   "metadata": {},
   "outputs": [],
   "source": [
    "# tourism data\n",
    "import pandas as pd\n",
    "y = pd.read_csv(\"../../hfs/data/tourism_y.csv\")\n",
    "y = y['V1'].to_numpy()\n",
    "\n",
    "S = pd.read_csv(\"../../hfs/data/tourism_S.csv\")\n",
    "S = S.to_numpy()\n",
    "\n",
    "W = np.identity(S.shape[0])"
   ]
  },
  {
   "cell_type": "code",
   "execution_count": 3,
   "id": "ccbffb15",
   "metadata": {},
   "outputs": [
    {
     "name": "stdout",
     "output_type": "stream",
     "text": [
      "Set parameter Username\n",
      "Academic license - for non-commercial use only - expires 2024-01-22\n",
      "Set parameter Username\n",
      "Academic license - for non-commercial use only - expires 2024-01-22\n"
     ]
    },
    {
     "name": "stderr",
     "output_type": "stream",
     "text": [
      "/var/folders/4f/znmdx8hn2qq9lmqh0fbypyjrjvypjq/T/ipykernel_41511/678334039.py:97: RuntimeWarning: Chained matrix multiplications of MVars is inefficient, collect numeric terms first when building expressions\n",
      "  AUX = S.T @ A.T @ inv_W\n",
      "/var/folders/4f/znmdx8hn2qq9lmqh0fbypyjrjvypjq/T/ipykernel_41511/678334039.py:98: RuntimeWarning: Chained matrix multiplications of MVars is inefficient, collect numeric terms first when building expressions\n",
      "  model.addConstr(E == y - S@G@y)\n"
     ]
    },
    {
     "name": "stdout",
     "output_type": "stream",
     "text": [
      "Set parameter MIPGap to value 0.001\n",
      "Set parameter MIPFocus to value 3\n",
      "Set parameter Cuts to value 3\n",
      "Set parameter TimeLimit to value 600\n",
      "Gurobi Optimizer version 10.0.1 build v10.0.1rc0 (mac64[rosetta2])\n",
      "\n",
      "CPU model: Apple M1 Pro\n",
      "Thread count: 8 physical cores, 8 logical processors, using up to 8 threads\n",
      "\n",
      "Optimize a model with 5887 rows, 26644 columns and 56959 nonzeros\n",
      "Model fingerprint: 0x8c481bb7\n",
      "Model has 111 quadratic objective terms\n",
      "Model has 8436 quadratic constraints\n",
      "Variable types: 14323 continuous, 12321 integer (12321 binary)\n",
      "Coefficient statistics:\n",
      "  Matrix range     [1e+00, 5e+04]\n",
      "  QMatrix range    [1e+00, 1e+00]\n",
      "  QLMatrix range   [1e+00, 1e+00]\n",
      "  Objective range  [0e+00, 0e+00]\n",
      "  QObjective range [1e+00, 1e+00]\n",
      "  Bounds range     [1e+00, 5e+04]\n",
      "  RHS range        [1e+00, 5e+04]\n",
      "Presolve removed 3626 rows and 15836 columns\n",
      "Presolve time: 0.11s\n",
      "Presolved: 63897 rows, 87112 columns, 188885 nonzeros\n",
      "Presolved model has 49704 SOS constraint(s)\n",
      "Presolved model has 111 quadratic objective terms\n",
      "Variable types: 62149 continuous, 24963 integer (24963 binary)\n",
      "Found heuristic solution: objective 1734397.6633\n",
      "Root relaxation presolved: 1713 rows, 3912 columns, 9689 nonzeros\n",
      "Root relaxation presolved model has 111 quadratic objective terms\n",
      "\n",
      "\n",
      "Root relaxation: objective 1.723384e+05, 5436 iterations, 0.11 seconds (0.15 work units)\n",
      "\n",
      "    Nodes    |    Current Node    |     Objective Bounds      |     Work\n",
      " Expl Unexpl |  Obj  Depth IntInf | Incumbent    BestBd   Gap | It/Node Time\n",
      "\n",
      "     0     0 172338.448    0 10184 1734397.66 172338.448  90.1%     -    0s\n",
      "H    0     0                    1534172.1916 172338.448  88.8%     -    1s\n",
      "     0     0 172338.448    0 10184 1534172.19 172338.448  88.8%     -    2s\n",
      "H    0     0                    1534172.1913 172338.448  88.8%     -    3s\n",
      "     0     2 172338.448    0 10184 1534172.19 172338.448  88.8%     -    3s\n",
      "     1     4 172338.448    1 10029 1534172.19 172338.448  88.8%   153    6s\n",
      "H   31    47                    818214.63943 172338.448  78.9%   427   14s\n",
      "H   33    47                    818214.57346 172338.448  78.9%   425   14s\n",
      "H   45    47                    228824.71035 172338.448  24.7%   378   14s\n",
      "    46   164 172338.448    4 6874 228824.710 172338.448  24.7%   377   17s\n",
      "   163   334 172338.448   17 5895 228824.710 172338.448  24.7%   239   22s\n",
      "H  251   334                    228752.30829 172338.448  24.7%   447   22s\n",
      "   349   775 172338.448   21 5878 228752.308 172338.448  24.7%   888   52s\n",
      "H  436   775                    220135.58100 172338.448  21.7%   755   52s\n",
      "   919   776 172338.448   26    0 220135.581 172338.448  21.7%   545   55s\n",
      "   921   777 172338.448   38    0 220135.581 172338.448  21.7%   544   64s\n",
      "H  923   742                    219676.58633 172338.448  21.5%   549   65s\n",
      "   946   764 172338.448   18 8808 219676.586 172338.448  21.5%   556   70s\n",
      "H  954   735                    218904.37651 172338.448  21.3%   561   73s\n",
      "   966   867 172338.448   18 8660 218904.377 172338.448  21.3%   572   75s\n",
      "  1436  1232 172338.448   45 1160 218904.377 172338.448  21.3%   513   84s\n",
      "  1868  1402 172338.448   37 2322 218904.377 172338.448  21.3%   563   90s\n",
      "H 2468  1167                    218755.67755 172338.448  21.2%   498   90s\n",
      "  3235  1936 172338.448   23 6097 218755.678 172338.448  21.2%   451   99s\n",
      "  3931  2118 172338.448   28 5777 218755.678 172338.448  21.2%   419  110s\n",
      "H 4251  2118                    218755.66501 172338.448  21.2%   406  110s\n",
      "  4410  2604 172338.448   22 8163 218755.665 172338.448  21.2%   400  115s\n",
      "  5148  2940 172338.448   50 4574 218755.665 172338.448  21.2%   379  120s\n",
      "  5859  3266 172338.448   46 2036 218755.665 172338.448  21.2%   367  126s\n",
      "H 6099  3266                    218755.24512 172338.448  21.2%   364  126s\n",
      "  6378  3883 172338.448   38 4199 218755.245 172338.448  21.2%   361  131s\n",
      "  7170  4400 172338.448   65 1362 218755.245 172338.448  21.2%   354  136s\n",
      "  7857  4806 172338.448   57 2295 218755.245 172338.448  21.2%   347  142s\n",
      "H 7882  4806                    218584.74836 172338.448  21.2%   346  142s\n",
      "  8601  5158 172338.448   67 2093 218584.748 172338.448  21.2%   343  147s\n",
      "  9431  5398 172338.448   64 3204 218584.748 172338.448  21.2%   335  153s\n",
      "H 9663  5398                    218582.37873 172338.448  21.2%   334  153s\n",
      " 10079  5881 172338.448   84 2041 218582.379 172338.448  21.2%   331  159s\n",
      "H11014  6582                    215079.03278 172338.448  19.9%   324  166s\n",
      " 11937  7010 172338.448   68 2067 215079.033 172338.448  19.9%   320  172s\n",
      " 12763  7668 172338.448   42 5654 215079.033 172338.448  19.9%   319  179s\n",
      "H12950  7662                    214743.90389 172338.448  19.7%   320  179s\n",
      " 13617  8197 172338.448   67 2451 214743.904 172338.448  19.7%   318  186s\n",
      "H14031  8197                    214743.62617 172338.448  19.7%   314  186s\n",
      "H14396  8197                    214742.08549 172338.448  19.7%   311  186s\n",
      " 14744  8814 172338.448   44 4297 214742.085 172338.448  19.7%   310  194s\n",
      "H16075  9461                    213802.56567 172338.448  19.4%   302  202s\n",
      "H17260 10007                    213802.56445 172338.448  19.4%   297  211s\n",
      "H17740 10007                    213801.99152 172338.448  19.4%   295  211s\n",
      " 18118 10726 172338.448   74 2308 213801.992 172338.448  19.4%   295  219s\n",
      " 19471 11511 172338.448   72 2086 213801.992 172338.448  19.4%   287  228s\n",
      " 21138 12030 172338.448   25 5810 213801.992 172338.448  19.4%   277  237s\n",
      " 22307 12383 172338.448   45 5018 213801.992 172338.448  19.4%   277  246s\n",
      "H22437 12383                    213775.45573 172338.448  19.4%   278  246s\n",
      "H22572 12379                    213223.13758 172338.448  19.2%   278  246s\n",
      "H23034 12321                    209052.17370 172338.448  17.6%   276  246s\n",
      " 23128 12994 172338.448   20 6257 209052.174 172338.448  17.6%   277  255s\n",
      " 24295 13846 172338.448   64  475 209052.174 172338.448  17.6%   279  264s\n",
      " 25485 14523 172338.448   64 3069 209052.174 172338.448  17.6%   278  273s\n",
      " 26788 14982 172338.448   47 1724 209052.174 172338.448  17.6%   277  281s\n",
      " 28117 15416 172338.448   35 5961 209052.174 172338.448  17.6%   276  288s\n",
      " 29237 16054 172338.448   37 6064 209052.174 172338.448  17.6%   277  296s\n",
      " 30505 16433 172338.448   51 1775 209052.174 172338.448  17.6%   279  304s\n",
      " 31415 17120 172338.448   81 2627 209052.174 172338.448  17.6%   281  312s\n",
      " 32466 17660 172338.448   56 1186 209052.174 172338.448  17.6%   282  321s\n",
      " 33492 18263 172338.448   53 1663 209052.174 172338.448  17.6%   285  329s\n",
      " 34685 18711 172338.448   42 4587 209052.174 172338.448  17.6%   284  338s\n",
      " 36323 19387 172338.448   50 2748 209052.174 172338.448  17.6%   280  346s\n",
      " 37553 19417 172338.448   84  330 209052.174 172338.448  17.6%   279  356s\n",
      "H37595 19916                    209029.25872 172338.448  17.6%   279  365s\n",
      "H37987 19772                    205900.16059 172338.448  16.3%   279  365s\n",
      "H38110 19772                    205900.15351 172338.448  16.3%   279  365s\n",
      " 38744 20256 172338.448   75 1259 205900.154 172338.448  16.3%   278  373s\n",
      " 40210 20584 172338.448   95 1018 205900.154 172338.448  16.3%   277  381s\n",
      " 41158 21337 172338.448   79 2156 205900.154 172338.448  16.3%   277  389s\n",
      " 42559 21940 172338.448   80 1054 205900.154 172338.448  16.3%   276  399s\n",
      " 44096 22453 172338.448   74 1242 205900.154 172338.448  16.3%   274  414s\n",
      "H44629 20694                    188568.43337 172338.448  8.61%   274  414s\n",
      " 45429 21335 172338.448   85 1123 188568.433 172338.448  8.61%   272  423s\n",
      " 47120 21343 172338.448   73 1260 188568.433 172338.448  8.61%   269  430s\n",
      " 47128 22116 172338.448   34 4869 188568.433 172338.448  8.61%   269  438s\n",
      " 48039 22707 172338.448   82 1232 188568.433 172338.448  8.61%   270  446s\n",
      " 49466 23367 172338.448   56 3178 188568.433 172338.448  8.61%   269  454s\n",
      " 50458 24068 172338.448   41 3618 188568.433 172338.448  8.61%   270  462s\n",
      " 51501 24747 172338.448   32 5990 188568.433 172338.448  8.61%   271  470s\n",
      " 52952 25469 172338.448   53 6402 188568.433 172338.448  8.61%   271  478s\n",
      " 54158 26136 172338.448   46 2608 188568.433 172338.448  8.61%   270  486s\n",
      " 55349 26848 172338.448   58 5101 188568.433 172338.448  8.61%   270  495s\n",
      " 57065 27457 172338.448   71 3632 188568.433 172338.448  8.61%   267  502s\n",
      " 58670 27913 172338.448   74 2241 188568.433 172338.448  8.61%   265  510s\n"
     ]
    },
    {
     "name": "stdout",
     "output_type": "stream",
     "text": [
      " 60140 28351 172338.448   76 2481 188568.433 172338.448  8.61%   263  519s\n",
      " 61364 28838 172338.448   73 1776 188568.433 172338.448  8.61%   261  526s\n",
      " 63041 29416 172338.448   32 5688 188568.433 172338.448  8.61%   258  533s\n",
      " 64741 30117 172338.448   75 1795 188568.433 172338.448  8.61%   255  539s\n",
      " 66004 30713 172338.448   61 1900 188568.433 172338.448  8.61%   255  546s\n",
      " 67584 31203 172338.448   78 1037 188568.433 172338.448  8.61%   253  552s\n",
      "\n",
      "Cutting planes:\n",
      "  Learned: 2\n",
      "  Implied bound: 157\n",
      "  MIR: 7\n",
      "  Flow cover: 24\n",
      "  Relax-and-lift: 180\n",
      "\n",
      "Explored 69441 nodes (17474019 simplex iterations) in 554.63 seconds (1276.33 work units)\n",
      "Thread count was 8 (of 8 available processors)\n",
      "\n",
      "Solution count 10: 188568 205900 205900 ... 213803\n",
      "\n",
      "Solve interrupted\n",
      "Best objective 1.885684333748e+05, best bound 1.723384479546e+05, gap 8.6069%\n"
     ]
    }
   ],
   "source": [
    "G, Z, obj, gap, opt = miqp_AS(y, S, W, l0 = 0, m = None, LogToConsole = 1, OutputFlag = True, MIPFocus = 3, Cuts = 3)"
   ]
  },
  {
   "cell_type": "code",
   "execution_count": 13,
   "id": "827d98c0",
   "metadata": {},
   "outputs": [
    {
     "data": {
      "text/plain": [
       "82.0"
      ]
     },
     "execution_count": 13,
     "metadata": {},
     "output_type": "execute_result"
    }
   ],
   "source": [
    "sum(Z)"
   ]
  },
  {
   "cell_type": "code",
   "execution_count": 14,
   "id": "7f2c31db",
   "metadata": {},
   "outputs": [],
   "source": [
    "# Small sample\n",
    "y = np.array([-84.906390, -37.704329, -46.786032, -7.697729, -31.427601, -23.894639, -21.340848])\n",
    "S = np.array([[1, 1, 1, 1], [1, 1, 0, 0], [0, 0, 1, 1], [1, 0, 0, 0], [0, 1, 0, 0], [0, 0, 1, 0], [0, 0, 0, 1]])\n",
    "W = np.diag([1,1,1,1,1,1,1]) # W = np.identity(S.shape[0])"
   ]
  },
  {
   "cell_type": "code",
   "execution_count": 15,
   "id": "55493393",
   "metadata": {
    "scrolled": true
   },
   "outputs": [
    {
     "name": "stdout",
     "output_type": "stream",
     "text": [
      "Set parameter Username\n",
      "Academic license - for non-commercial use only - expires 2024-01-22\n"
     ]
    },
    {
     "ename": "TypeError",
     "evalue": "unsupported operand type(s) for @: 'MQuadExpr' and 'MVar'",
     "output_type": "error",
     "traceback": [
      "\u001b[0;31m---------------------------------------------------------------------------\u001b[0m",
      "\u001b[0;31mTypeError\u001b[0m                                 Traceback (most recent call last)",
      "Cell \u001b[0;32mIn[15], line 1\u001b[0m\n\u001b[0;32m----> 1\u001b[0m G, Z, obj, gap, opt \u001b[38;5;241m=\u001b[39m \u001b[43mmiqp_AS\u001b[49m\u001b[43m(\u001b[49m\u001b[43my\u001b[49m\u001b[43m,\u001b[49m\u001b[43m \u001b[49m\u001b[43mS\u001b[49m\u001b[43m,\u001b[49m\u001b[43m \u001b[49m\u001b[43mW\u001b[49m\u001b[43m,\u001b[49m\u001b[43m \u001b[49m\u001b[43ml0\u001b[49m\u001b[43m \u001b[49m\u001b[38;5;241;43m=\u001b[39;49m\u001b[43m \u001b[49m\u001b[38;5;241;43m0.5\u001b[39;49m\u001b[43m,\u001b[49m\u001b[43m \u001b[49m\u001b[43mm\u001b[49m\u001b[43m \u001b[49m\u001b[38;5;241;43m=\u001b[39;49m\u001b[43m \u001b[49m\u001b[38;5;28;43;01mNone\u001b[39;49;00m\u001b[43m,\u001b[49m\u001b[43m \u001b[49m\u001b[43mMIPGap\u001b[49m\u001b[43m \u001b[49m\u001b[38;5;241;43m=\u001b[39;49m\u001b[43m \u001b[49m\u001b[38;5;241;43m0.0001\u001b[39;49m\u001b[43m,\u001b[49m\u001b[43m \u001b[49m\u001b[43mLogToConsole\u001b[49m\u001b[43m \u001b[49m\u001b[38;5;241;43m=\u001b[39;49m\u001b[43m \u001b[49m\u001b[38;5;241;43m1\u001b[39;49m\u001b[43m,\u001b[49m\u001b[43m \u001b[49m\u001b[43mOutputFlag\u001b[49m\u001b[43m \u001b[49m\u001b[38;5;241;43m=\u001b[39;49m\u001b[43m \u001b[49m\u001b[38;5;28;43;01mTrue\u001b[39;49;00m\u001b[43m,\u001b[49m\u001b[43m \u001b[49m\u001b[43mMIPFocus\u001b[49m\u001b[43m \u001b[49m\u001b[38;5;241;43m=\u001b[39;49m\u001b[43m \u001b[49m\u001b[38;5;241;43m3\u001b[39;49m\u001b[43m,\u001b[49m\u001b[43m \u001b[49m\u001b[43mCuts\u001b[49m\u001b[43m \u001b[49m\u001b[38;5;241;43m=\u001b[39;49m\u001b[43m \u001b[49m\u001b[38;5;241;43m3\u001b[39;49m\u001b[43m)\u001b[49m\n",
      "Cell \u001b[0;32mIn[13], line 95\u001b[0m, in \u001b[0;36mmiqp_AS\u001b[0;34m(y, S, W, l0, m, MIPGap, TimeLimit, LogToConsole, OutputFlag, MIPFocus, Cuts)\u001b[0m\n\u001b[1;32m     93\u001b[0m model\u001b[38;5;241m.\u001b[39maddConstr(E \u001b[38;5;241m==\u001b[39m y \u001b[38;5;241m-\u001b[39m S\u001b[38;5;129m@G\u001b[39m\u001b[38;5;129m@y\u001b[39m)\n\u001b[1;32m     94\u001b[0m \u001b[38;5;66;03m#model.addConstr(C @ AUX == G) # invertible\u001b[39;00m\n\u001b[0;32m---> 95\u001b[0m model\u001b[38;5;241m.\u001b[39maddConstr(\u001b[43mAUX\u001b[49m\u001b[43m \u001b[49m\u001b[38;5;241;43m@\u001b[39;49m\u001b[43m \u001b[49m\u001b[43mAS\u001b[49m\u001b[43m \u001b[49m\u001b[38;5;241;43m@\u001b[39;49m\u001b[43m \u001b[49m\u001b[43mG\u001b[49m \u001b[38;5;241m==\u001b[39m AUX)\n\u001b[1;32m     96\u001b[0m model\u001b[38;5;241m.\u001b[39maddConstr(AS \u001b[38;5;241m=\u001b[39m A \u001b[38;5;241m@\u001b[39m S)\n\u001b[1;32m     97\u001b[0m model\u001b[38;5;241m.\u001b[39maddConstr(G \u001b[38;5;241m@\u001b[39m S \u001b[38;5;241m==\u001b[39m I)\n",
      "\u001b[0;31mTypeError\u001b[0m: unsupported operand type(s) for @: 'MQuadExpr' and 'MVar'"
     ]
    }
   ],
   "source": [
    "G, Z, obj, gap, opt = miqp_AS(y, S, W, l0 = 0.5, m = None, \n",
    "                              MIPGap = 0.0001, LogToConsole = 1, OutputFlag = True, MIPFocus = 3, Cuts = 3)"
   ]
  },
  {
   "cell_type": "code",
   "execution_count": 14,
   "id": "93a13f8e",
   "metadata": {},
   "outputs": [
    {
     "data": {
      "text/plain": [
       "array([[ 0.,  0.,  0., ...,  0.,  0.,  0.],\n",
       "       [ 0.,  0.,  0., ...,  0.,  0.,  0.],\n",
       "       [ 0.,  0.,  0., ...,  0.,  0.,  0.],\n",
       "       ...,\n",
       "       [ 0.,  0.,  0., ...,  1.,  0.,  0.],\n",
       "       [ 0.,  0.,  0., ...,  0.,  1.,  0.],\n",
       "       [ 0.,  0.,  0., ..., -1., -1.,  0.]])"
      ]
     },
     "execution_count": 14,
     "metadata": {},
     "output_type": "execute_result"
    }
   ],
   "source": [
    "np.linalg.inv(S.T @ np.diag(Z).T @ np.linalg.inv(W) @ np.diag(Z) @ S) @ S.T @ np.diag(Z).T @ np.linalg.inv(W)"
   ]
  },
  {
   "cell_type": "code",
   "execution_count": 15,
   "id": "d255dc61",
   "metadata": {},
   "outputs": [
    {
     "data": {
      "text/plain": [
       "array([[ 0.,  0.,  0., ...,  0.,  0.,  0.],\n",
       "       [ 0.,  0.,  0., ...,  0.,  0.,  0.],\n",
       "       [ 0.,  0.,  0., ...,  0.,  0.,  0.],\n",
       "       ...,\n",
       "       [ 0.,  0.,  0., ...,  1.,  0.,  0.],\n",
       "       [ 0.,  0.,  0., ...,  0.,  1.,  0.],\n",
       "       [ 0.,  0.,  0., ..., -1., -1.,  0.]])"
      ]
     },
     "execution_count": 15,
     "metadata": {},
     "output_type": "execute_result"
    }
   ],
   "source": [
    "G"
   ]
  },
  {
   "cell_type": "code",
   "execution_count": 25,
   "id": "b9404b4a",
   "metadata": {},
   "outputs": [
    {
     "data": {
      "text/plain": [
       "172338.4479546252"
      ]
     },
     "execution_count": 25,
     "metadata": {},
     "output_type": "execute_result"
    }
   ],
   "source": [
    "n = S.shape[0]\n",
    "nb = S.shape[1]\n",
    "p = nb * n\n",
    "    \n",
    "y = y.reshape((n,)) # reshape imported R object from (n, 1) to (n,)\n",
    "I = np.identity(nb)\n",
    "inv_W = np.linalg.inv(W)\n",
    "    \n",
    "\"\"\" MinT solution \"\"\"\n",
    "R = S.T @ inv_W\n",
    "G_mint = np.linalg.inv(R @ S) @ R\n",
    "obj_mint = 0.5 * (y - S@G_mint@y).T @ inv_W @ (y - S@G_mint@y)\n",
    "obj_mint"
   ]
  },
  {
   "cell_type": "code",
   "execution_count": null,
   "id": "d7e6e32a",
   "metadata": {},
   "outputs": [],
   "source": []
  }
 ],
 "metadata": {
  "kernelspec": {
   "display_name": "Python 3 (ipykernel)",
   "language": "python",
   "name": "python3"
  },
  "language_info": {
   "codemirror_mode": {
    "name": "ipython",
    "version": 3
   },
   "file_extension": ".py",
   "mimetype": "text/x-python",
   "name": "python",
   "nbconvert_exporter": "python",
   "pygments_lexer": "ipython3",
   "version": "3.9.13"
  }
 },
 "nbformat": 4,
 "nbformat_minor": 5
}
