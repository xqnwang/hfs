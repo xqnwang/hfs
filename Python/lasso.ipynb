{
 "cells": [
  {
   "cell_type": "code",
   "execution_count": 1,
   "id": "36f73888",
   "metadata": {},
   "outputs": [],
   "source": [
    "import numpy as np\n",
    "from numpy import linalg as LA\n",
    "import gurobipy as gp\n",
    "from gurobipy import GRB, quicksum\n",
    "# Gurobi Optimizer version 10.0.1 build v10.0.1rc0\n",
    "# import math\n",
    "\n",
    "def socp(y, S, W, l1 = 0, m = None, M = None, weight = True, unbiased = True, TimeLimit = 0, Quick = 1, LogToConsole = 0, OutputFlag = 0):\n",
    "    \"\"\"\n",
    "    Solve the OP problem: min_{G} 0.5 * (y - SGy)' W^{-1} (y - SGy) + l1 * sum_{j}(||G_{.j}||_2)\n",
    "                          s.t. GS = I\n",
    "                          \n",
    "\n",
    "    Parameters\n",
    "    ----------\n",
    "    y : np.array\n",
    "        1-d numpy array of base forecasts with size n.\n",
    "    S : np.array\n",
    "        n x nb numpy array describing the hierarchy structure.\n",
    "    W : np.array\n",
    "        n x n numpy array. The covariance matrix of the base forecast errors.\n",
    "    l1 : float, optional\n",
    "        lagrange multiplier.\n",
    "    weight: int\n",
    "        Enables weighted group-lasso when it is True.\n",
    "    unbiased: int\n",
    "        Includes unbiasedness constraint\n",
    "    TimeLimit: float, optional\n",
    "        set a timeout for gurobi.\n",
    "    LogToConsole: int, optional\n",
    "        Enables or disables console logging. Use OutputFlag to shut off all logging.\n",
    "    OutputFlag: int, optional\n",
    "        Enables or disables solver output. Use LogFile and LogToConsole for finer-grain control. Setting OutputFlag to 0 is equivalent to setting LogFile to \"\" and LogToConsole to 0.\n",
    "        \n",
    "        \n",
    "    Returns\n",
    "    -------\n",
    "    1-d numpy array of diagonal elements of A.\n",
    "\n",
    "    \"\"\"\n",
    "            \n",
    "    n = S.shape[0]\n",
    "    nb = S.shape[1]\n",
    "    p = nb * n\n",
    "    \n",
    "    y = y.reshape((n,)) # reshape imported R object from (n, 1) to (n,)\n",
    "    I = np.identity(nb)\n",
    "    inv_W = np.linalg.inv(W)\n",
    "    \n",
    "    \"\"\" MinT solution \"\"\"\n",
    "    R = S.T @ inv_W\n",
    "    G_mint = np.linalg.inv(R @ S) @ R\n",
    "    \n",
    "    \"\"\" POSSIBLE MAX LAMBDA\n",
    "    obj_init = 0.5 * (y - S@G_mint@y).T @ inv_W @ (y - S@G_mint@y)\n",
    "    ndigits = math.floor(math.log10(abs(obj_init))) + 2\n",
    "    lambda_max = 10**ndigits\n",
    "    \"\"\"\n",
    "    \n",
    "    if weight:\n",
    "        w = 1/LA.norm(G_mint, axis=0)\n",
    "    else:\n",
    "        w = np.repeat(1, n)\n",
    "    \n",
    "    if m is None:\n",
    "        m = np.amax(abs(G_mint)) + 1\n",
    "    if M is None:\n",
    "        M = nb\n",
    "    emax = np.amax(abs(y))\n",
    "    \n",
    "    \"\"\" SUPPRESS ALL OUTPUT \"\"\"\n",
    "    env = gp.Env(empty=True)\n",
    "    env.setParam(\"OutputFlag\",OutputFlag)\n",
    "    env.start()\n",
    "    \n",
    "    \"\"\" SOCP MODEL \"\"\"\n",
    "    model = gp.Model('SOCP', env=env) # the optimization model\n",
    "    \n",
    "    \"\"\" PARAMETERS \"\"\"\n",
    "    # G matrix\n",
    "    G = model.addMVar(shape=(p, ), vtype=GRB.CONTINUOUS,\n",
    "                      ub=np.repeat(m, p), lb=np.repeat(-m, p))\n",
    "    # Error\n",
    "    E = model.addMVar(shape=(n, ), vtype=GRB.CONTINUOUS,\n",
    "                      ub=np.repeat(emax, n), lb=np.repeat(-emax, n))\n",
    "    # Auxiliary variables for l2 norm\n",
    "    AUX = model.addMVar(shape=(n, ), vtype=GRB.CONTINUOUS,\n",
    "                        ub=GRB.INFINITY, lb=np.repeat(0, n))\n",
    "    model.update()\n",
    "\n",
    "    \"\"\" OBJECTIVE \"\"\"\n",
    "    model.setObjective(0.5 * E.T @ inv_W @ E + l1 * quicksum(w * AUX), GRB.MINIMIZE)\n",
    "\n",
    "    \"\"\" CONSTRAINTS \"\"\"\n",
    "    model.addConstr(y == E + np.kron(y.T, S) @ G)\n",
    "    # SOC constraints\n",
    "    for j in range(n):\n",
    "        model.addGenConstrNorm(AUX[j], G[(j*nb):((j+1)*nb)], 2)\n",
    "    # Unbiasedness constraint\n",
    "    if unbiased:\n",
    "        model.addConstr(I.reshape(-1) == np.kron(S.T, I) @ G)\n",
    "    model.update()\n",
    "    \n",
    "    \"\"\" OUTPUT THE MODEL TO A FILE \"\"\" \n",
    "    # model.write(\"myfile.lp\")\n",
    "    \n",
    "    \"\"\" OPTIMIZE \"\"\"\n",
    "    model.Params.OutputFlag = OutputFlag\n",
    "    model.Params.LogToConsole = LogToConsole\n",
    "    if Quick:\n",
    "        model.Params.NumericFocus = 1\n",
    "        model.Params.OptimalityTol = 1e-4\n",
    "        model.Params.FeasibilityTol = 1e-4\n",
    "        model.Params.BarConvTol = 1e-4\n",
    "        model.Params.BarQCPConvTol = 1e-4\n",
    "    if TimeLimit > 0:\n",
    "        model.params.TimeLimit = TimeLimit\n",
    "    model.optimize()\n",
    "    # model.Params.Threads = 1\n",
    "    \n",
    "    g = G.X\n",
    "    G = g.reshape(n, nb).T\n",
    "    Z = 1 - (~(abs(G) > 1e-8).any(axis=0))*1\n",
    "    obj = model.objval\n",
    "    \n",
    "    return G, Z, obj"
   ]
  },
  {
   "cell_type": "code",
   "execution_count": 2,
   "id": "51bb9426",
   "metadata": {},
   "outputs": [],
   "source": [
    "# tourism data\n",
    "import pandas as pd\n",
    "y = pd.read_csv(\"../../hfs/data/tourism_y.csv\")\n",
    "y = y['V1'].to_numpy()\n",
    "\n",
    "S = pd.read_csv(\"../../hfs/data/tourism_S.csv\")\n",
    "S = S.to_numpy()\n",
    "\n",
    "W = np.identity(S.shape[0])"
   ]
  },
  {
   "cell_type": "code",
   "execution_count": null,
   "id": "b7c54677",
   "metadata": {},
   "outputs": [],
   "source": [
    "G, Z, obj = socp(y, S, W, l1 = 100, weight = False, unbiased = True, LogToConsole = 0, OutputFlag = 0)\n",
    "Z"
   ]
  },
  {
   "cell_type": "code",
   "execution_count": 3,
   "id": "0351f1ab",
   "metadata": {},
   "outputs": [
    {
     "name": "stdout",
     "output_type": "stream",
     "text": [
      "Set parameter Username\n",
      "Academic license - for non-commercial use only - expires 2024-01-22\n",
      "Set parameter OptimalityTol to value 0.0001\n",
      "Set parameter NumericFocus to value 1\n",
      "Set parameter FeasibilityTol to value 0.0001\n",
      "Set parameter BarConvTol to value 0.0001\n",
      "Set parameter BarQCPConvTol to value 0.0001\n",
      "Gurobi Optimizer version 10.0.1 build v10.0.1rc0 (mac64[rosetta2])\n",
      "\n",
      "CPU model: Apple M1 Pro\n",
      "Thread count: 8 physical cores, 8 logical processors, using up to 8 threads\n",
      "\n",
      "Optimize a model with 5887 rows, 8658 columns and 56959 nonzeros\n",
      "Model fingerprint: 0x46134343\n",
      "Model has 111 quadratic objective terms\n",
      "Model has 111 general constraints\n",
      "Variable types: 8658 continuous, 0 integer (0 binary)\n",
      "Coefficient statistics:\n",
      "  Matrix range     [1e+00, 5e+04]\n",
      "  Objective range  [1e+06, 9e+06]\n",
      "  QObjective range [1e+00, 1e+00]\n",
      "  Bounds range     [2e+00, 5e+04]\n",
      "  RHS range        [1e+00, 5e+04]\n",
      "Presolve removed 3626 rows and 3626 columns\n",
      "Presolve time: 0.04s\n",
      "Presolved: 2372 rows, 13468 columns, 20140 nonzeros\n",
      "Presolved model has 111 quadratic objective terms\n",
      "Presolved model has 8436 quadratic constraint(s)\n",
      "Variable types: 13468 continuous, 0 integer (0 binary)\n",
      "Root relaxation presolve removed 6 rows and 6 columns\n",
      "Root relaxation presolve time: 0.07s\n",
      "Root relaxation presolved: 32695 rows, 33962 columns, 87828 nonzeros\n",
      "Root relaxation presolved model has 8437 second-order cone constraints\n",
      "Root barrier log...\n",
      "\n",
      "Ordering time: 0.06s\n",
      "\n",
      "Barrier statistics:\n",
      " Dense cols : 112\n",
      " AA' NZ     : 1.732e+05\n",
      " Factor NZ  : 7.474e+05 (roughly 30 MB of memory)\n",
      " Factor Ops : 8.480e+07 (less than 1 second per iteration)\n",
      " Threads    : 8\n",
      "\n",
      "                  Objective                Residual\n",
      "Iter       Primal          Dual         Primal    Dual     Compl     Time\n",
      "   0   2.77341472e+11  2.50133247e-13  1.19e+04 1.14e+03  7.65e+06     1s\n",
      "   1   7.44206373e+09 -1.77081265e+08  4.09e+02 9.84e-01  2.08e+05     4s\n",
      "   2   7.69087520e+08 -4.29280273e+07  4.02e+01 1.52e-04  2.21e+04     5s\n",
      "   3   2.17992077e+08 -1.97556270e+07  1.10e+01 4.66e-09  6.30e+03     7s\n",
      "   4   8.48840389e+07 -1.11584386e+07  4.07e+00 3.23e-08  2.51e+03     9s\n",
      "   5   5.99503854e+07  5.28597477e+06  2.63e+00 1.89e-08  1.52e+03    11s\n",
      "   6   5.61981653e+07  2.14822473e+07  1.98e+00 1.59e-08  1.15e+03    14s\n",
      "   7   5.82811177e+07  4.49061988e+07  1.58e+00 9.54e-07  8.42e+02    16s\n",
      "   8   5.94841738e+07  5.60493830e+07  1.27e+00 1.27e-07  6.40e+02    18s\n",
      "   9   6.28023411e+07  6.45444154e+07  1.05e+00 6.98e-07  5.36e+02    19s\n",
      "  10   6.54586296e+07  7.11678919e+07  8.68e-01 9.65e-07  4.19e+02    20s\n",
      "  11   6.80017430e+07  7.78027278e+07  7.38e-01 3.16e-07  3.30e+02    22s\n",
      "  12   7.10214351e+07  8.26512101e+07  6.05e-01 2.70e-06  2.55e+02    23s\n",
      "  13   7.45050869e+07  8.52154119e+07  5.15e-01 9.25e-06  2.36e+02    26s\n",
      "  14   8.70563412e+07  8.96045319e+07  2.66e-01 1.92e-05  2.78e+02    29s\n",
      "  15   9.09936254e+07  9.40582709e+07  1.50e-01 4.07e-06  1.52e+02    31s\n",
      "  16   9.46647788e+07  9.65971114e+07  7.33e-02 2.70e-05  7.86e+01    33s\n",
      "  17   9.66254968e+07  9.73978251e+07  2.28e-02 3.92e-05  2.32e+01    36s\n",
      "  18   9.72861972e+07  9.75233335e+07  7.38e-03 3.77e-05  8.18e+00    39s\n",
      "  19   9.74772859e+07  9.75628904e+07  2.85e-03 4.79e-05  3.38e+00    41s\n",
      "  20   9.75855171e+07  9.75825762e+07  3.28e-04 5.33e-05  6.95e-01    43s\n",
      "  21   9.75979253e+07  9.75976656e+07  1.56e-05 7.77e-05  3.55e-02    45s\n",
      "  22   9.75984573e+07  9.75984515e+07  4.74e-07 3.62e-04  1.03e-03    48s\n",
      "  23   9.75984648e+07  9.75984704e+07  8.80e-06 2.02e-01  1.33e-05    53s\n",
      "\n",
      "Barrier solved model in 23 iterations and 52.65 seconds (4.92 work units)\n",
      "Optimal objective 9.75984648e+07\n",
      "\n",
      "\n",
      "Root relaxation: objective 9.759846e+07, 0 iterations, 52.59 seconds (4.84 work units)\n",
      "\n",
      "    Nodes    |    Current Node    |     Objective Bounds      |     Work\n",
      " Expl Unexpl |  Obj  Depth IntInf | Incumbent    BestBd   Gap | It/Node Time\n",
      "\n",
      "*    0     0               0    9.759846e+07 9.7598e+07  0.00%     -   52s\n",
      "\n",
      "Explored 1 nodes (0 simplex iterations) in 52.68 seconds (4.92 work units)\n",
      "Thread count was 8 (of 8 available processors)\n",
      "\n",
      "Solution count 1: 9.75985e+07 \n",
      "No other solutions better than 9.75985e+07\n",
      "\n",
      "Optimal solution found (tolerance 1.00e-04)\n",
      "Best objective 9.759846389151e+07, best bound 9.759846481220e+07, gap 0.0000%\n"
     ]
    },
    {
     "data": {
      "text/plain": [
       "array([1, 1, 1, 0, 0, 1, 0, 0, 0, 1, 1, 0, 0, 1, 0, 1, 0, 0, 0, 0, 0, 0,\n",
       "       0, 0, 0, 0, 0, 0, 1, 1, 1, 0, 0, 0, 0, 1, 1, 1, 1, 1, 1, 1, 1, 1,\n",
       "       1, 1, 1, 1, 1, 1, 1, 1, 1, 1, 1, 1, 1, 1, 1, 1, 1, 1, 1, 1, 1, 1,\n",
       "       1, 1, 1, 1, 1, 1, 1, 1, 1, 1, 1, 1, 1, 1, 1, 1, 1, 1, 1, 1, 1, 1,\n",
       "       1, 1, 1, 1, 1, 1, 1, 1, 1, 1, 1, 1, 1, 1, 1, 1, 1, 1, 1, 1, 1, 1,\n",
       "       1])"
      ]
     },
     "execution_count": 3,
     "metadata": {},
     "output_type": "execute_result"
    }
   ],
   "source": [
    "G, Z, obj = socp(y, S, W, l1 = 1000000, weight = True, unbiased = True, LogToConsole = 1, OutputFlag = 1)\n",
    "Z"
   ]
  },
  {
   "cell_type": "code",
   "execution_count": 4,
   "id": "c12ba5a1",
   "metadata": {},
   "outputs": [
    {
     "data": {
      "text/plain": [
       "87"
      ]
     },
     "execution_count": 4,
     "metadata": {},
     "output_type": "execute_result"
    }
   ],
   "source": [
    "sum(Z)"
   ]
  },
  {
   "cell_type": "code",
   "execution_count": null,
   "id": "654320ca",
   "metadata": {},
   "outputs": [],
   "source": [
    "G, Z, obj = socp(y, S, W, l1 = 100, weight = False, unbiased = False, LogToConsole = 0, OutputFlag = 0)\n",
    "Z"
   ]
  },
  {
   "cell_type": "code",
   "execution_count": null,
   "id": "c508f9ce",
   "metadata": {},
   "outputs": [],
   "source": [
    "G, Z, obj = socp(y, S, W, l1 = 100, weight = True, unbiased = False, LogToConsole = 0, OutputFlag = 0)\n",
    "Z"
   ]
  },
  {
   "cell_type": "code",
   "execution_count": 12,
   "id": "53a9d3e8",
   "metadata": {},
   "outputs": [],
   "source": [
    "# Small sample\n",
    "y = np.array([10, 6, 4, 1, 5, 3, 3])\n",
    "S = np.array([[1, 1, 1, 1], [1, 1, 0, 0], [0, 0, 1, 1], [1, 0, 0, 0], [0, 1, 0, 0], [0, 0, 1, 0], [0, 0, 0, 1]])\n",
    "W = np.diag([1,1,1,1,1,1,1]) # W = np.identity(S.shape[0])"
   ]
  },
  {
   "cell_type": "code",
   "execution_count": 13,
   "id": "cf9ffbd4",
   "metadata": {},
   "outputs": [
    {
     "data": {
      "text/plain": [
       "array([1, 0, 1, 1, 1, 1, 1])"
      ]
     },
     "execution_count": 13,
     "metadata": {},
     "output_type": "execute_result"
    }
   ],
   "source": [
    "G, Z, obj = socp(y, S, W, weight = True, unbiased = True, l1 = 1, LogToConsole = 0, OutputFlag = 0)\n",
    "Z"
   ]
  },
  {
   "cell_type": "code",
   "execution_count": 14,
   "id": "df848f6d",
   "metadata": {},
   "outputs": [
    {
     "data": {
      "text/plain": [
       "array([[ 1.35100477e-02,  3.20395376e-09,  3.84532789e-02,\n",
       "         9.86489949e-01, -1.35100509e-02, -5.19633266e-02,\n",
       "        -5.19633266e-02],\n",
       "       [ 1.35100477e-02,  3.20395376e-09,  3.84532789e-02,\n",
       "        -1.35100509e-02,  9.86489949e-01, -5.19633266e-02,\n",
       "        -5.19633266e-02],\n",
       "       [ 1.59883578e-02, -1.80791683e-09,  2.99947029e-01,\n",
       "        -1.59883559e-02, -1.59883559e-02,  6.84064613e-01,\n",
       "        -3.15935387e-01],\n",
       "       [ 1.59883578e-02, -1.80791683e-09,  2.99947029e-01,\n",
       "        -1.59883559e-02, -1.59883559e-02, -3.15935387e-01,\n",
       "         6.84064613e-01]])"
      ]
     },
     "execution_count": 14,
     "metadata": {},
     "output_type": "execute_result"
    }
   ],
   "source": [
    "G"
   ]
  },
  {
   "cell_type": "code",
   "execution_count": 20,
   "id": "ebafca56",
   "metadata": {},
   "outputs": [
    {
     "data": {
      "text/plain": [
       "9"
      ]
     },
     "execution_count": 20,
     "metadata": {},
     "output_type": "execute_result"
    }
   ],
   "source": [
    "3**2"
   ]
  },
  {
   "cell_type": "code",
   "execution_count": 21,
   "id": "f3c30a6c",
   "metadata": {},
   "outputs": [
    {
     "data": {
      "text/plain": [
       "27"
      ]
     },
     "execution_count": 21,
     "metadata": {},
     "output_type": "execute_result"
    }
   ],
   "source": [
    "3**3"
   ]
  },
  {
   "cell_type": "code",
   "execution_count": null,
   "id": "fdca71ff",
   "metadata": {},
   "outputs": [],
   "source": []
  }
 ],
 "metadata": {
  "kernelspec": {
   "display_name": "Python 3 (ipykernel)",
   "language": "python",
   "name": "python3"
  },
  "language_info": {
   "codemirror_mode": {
    "name": "ipython",
    "version": 3
   },
   "file_extension": ".py",
   "mimetype": "text/x-python",
   "name": "python",
   "nbconvert_exporter": "python",
   "pygments_lexer": "ipython3",
   "version": "3.9.13"
  }
 },
 "nbformat": 4,
 "nbformat_minor": 5
}
